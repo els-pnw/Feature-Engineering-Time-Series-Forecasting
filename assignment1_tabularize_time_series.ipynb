{
  "cells": [
    {
      "cell_type": "markdown",
      "metadata": {
        "id": "view-in-github",
        "colab_type": "text"
      },
      "source": [
        "<a href=\"https://colab.research.google.com/github/els-pnw/Feature-Engineering-Time-Series-Forecasting/blob/main/assignment1_tabularize_time_series.ipynb\" target=\"_parent\"><img src=\"https://colab.research.google.com/assets/colab-badge.svg\" alt=\"Open In Colab\"/></a>"
      ]
    },
    {
      "cell_type": "markdown",
      "id": "2d1a73ab",
      "metadata": {
        "id": "2d1a73ab"
      },
      "source": [
        "# Tabularize time series\n",
        "\n",
        "In this assignment, your task is to convert **time series data** into a **tabular data set**.\n",
        "\n",
        "You need to create suitable input features from a time series containing weekly sales to be able to forecast sales for the next week.\n",
        "\n",
        "To prepare the dataset for this assignment, please follow the guidelines in the notebook `02-create-online-retail-II-datasets.ipynb` in the `01-Create-Datasets` folder."
      ]
    },
    {
      "cell_type": "code",
      "source": [
        "!pip install -Uq ppscore feature-engine"
      ],
      "metadata": {
        "colab": {
          "base_uri": "https://localhost:8080/"
        },
        "id": "7D11nmrz7aAL",
        "outputId": "bc779a12-314e-45a2-928e-76e5846b07db"
      },
      "id": "7D11nmrz7aAL",
      "execution_count": 6,
      "outputs": [
        {
          "output_type": "stream",
          "name": "stdout",
          "text": [
            "\u001b[2K     \u001b[90m━━━━━━━━━━━━━━━━━━━━━━━━━━━━━━━━━━━━━━━\u001b[0m \u001b[32m326.6/326.6 kB\u001b[0m \u001b[31m2.6 MB/s\u001b[0m eta \u001b[36m0:00:00\u001b[0m\n",
            "\u001b[?25h"
          ]
        }
      ]
    },
    {
      "cell_type": "code",
      "source": [
        "from google.colab import drive\n",
        "drive.mount('/content/drive')"
      ],
      "metadata": {
        "colab": {
          "base_uri": "https://localhost:8080/"
        },
        "id": "JciR71tf7578",
        "outputId": "8bc65fb3-f206-4575-d6ee-42f4be818545"
      },
      "id": "JciR71tf7578",
      "execution_count": 10,
      "outputs": [
        {
          "output_type": "stream",
          "name": "stdout",
          "text": [
            "Drive already mounted at /content/drive; to attempt to forcibly remount, call drive.mount(\"/content/drive\", force_remount=True).\n"
          ]
        }
      ]
    },
    {
      "cell_type": "code",
      "execution_count": 67,
      "id": "55ff25dd",
      "metadata": {
        "id": "55ff25dd"
      },
      "outputs": [],
      "source": [
        "import pandas as pd\n",
        "import numpy as np\n",
        "import ppscore as pps\n",
        "import seaborn as sns\n",
        "import plotly.express as px\n",
        "import plotly.graph_objects as go\n",
        "import plotly.subplots as sp\n",
        "from plotly.subplots import make_subplots\n",
        "import plotly.figure_factory as ff\n",
        "\n",
        "from feature_engine.creation import CyclicalFeatures\n",
        "\n",
        "from sklearn.metrics import mean_squared_error\n",
        "from sklearn.model_selection import train_test_split\n",
        "from statsmodels.tsa.seasonal import seasonal_decompose\n",
        "from sklearn.ensemble import RandomForestRegressor\n",
        "from sklearn.linear_model import LinearRegression, Lasso\n",
        "import xgboost as xgb\n",
        "\n",
        "import matplotlib.pyplot as plt"
      ]
    },
    {
      "cell_type": "code",
      "execution_count": 60,
      "id": "f53976d3",
      "metadata": {
        "colab": {
          "base_uri": "https://localhost:8080/",
          "height": 238
        },
        "id": "f53976d3",
        "outputId": "dbeee86c-5508-4846-b900-67852c005689"
      },
      "outputs": [
        {
          "output_type": "execute_result",
          "data": {
            "text/plain": [
              "            month  wom      sales\n",
              "week                             \n",
              "2009-12-06     12    1  213000.35\n",
              "2009-12-13     12    2  195810.04\n",
              "2009-12-20     12    3  182396.74\n",
              "2009-12-27     12    4   22007.77\n",
              "2010-01-03      1    1       0.00"
            ],
            "text/html": [
              "\n",
              "  <div id=\"df-2f26b1d4-2a61-4505-b9da-c444658765d4\" class=\"colab-df-container\">\n",
              "    <div>\n",
              "<style scoped>\n",
              "    .dataframe tbody tr th:only-of-type {\n",
              "        vertical-align: middle;\n",
              "    }\n",
              "\n",
              "    .dataframe tbody tr th {\n",
              "        vertical-align: top;\n",
              "    }\n",
              "\n",
              "    .dataframe thead th {\n",
              "        text-align: right;\n",
              "    }\n",
              "</style>\n",
              "<table border=\"1\" class=\"dataframe\">\n",
              "  <thead>\n",
              "    <tr style=\"text-align: right;\">\n",
              "      <th></th>\n",
              "      <th>month</th>\n",
              "      <th>wom</th>\n",
              "      <th>sales</th>\n",
              "    </tr>\n",
              "    <tr>\n",
              "      <th>week</th>\n",
              "      <th></th>\n",
              "      <th></th>\n",
              "      <th></th>\n",
              "    </tr>\n",
              "  </thead>\n",
              "  <tbody>\n",
              "    <tr>\n",
              "      <th>2009-12-06</th>\n",
              "      <td>12</td>\n",
              "      <td>1</td>\n",
              "      <td>213000.35</td>\n",
              "    </tr>\n",
              "    <tr>\n",
              "      <th>2009-12-13</th>\n",
              "      <td>12</td>\n",
              "      <td>2</td>\n",
              "      <td>195810.04</td>\n",
              "    </tr>\n",
              "    <tr>\n",
              "      <th>2009-12-20</th>\n",
              "      <td>12</td>\n",
              "      <td>3</td>\n",
              "      <td>182396.74</td>\n",
              "    </tr>\n",
              "    <tr>\n",
              "      <th>2009-12-27</th>\n",
              "      <td>12</td>\n",
              "      <td>4</td>\n",
              "      <td>22007.77</td>\n",
              "    </tr>\n",
              "    <tr>\n",
              "      <th>2010-01-03</th>\n",
              "      <td>1</td>\n",
              "      <td>1</td>\n",
              "      <td>0.00</td>\n",
              "    </tr>\n",
              "  </tbody>\n",
              "</table>\n",
              "</div>\n",
              "    <div class=\"colab-df-buttons\">\n",
              "\n",
              "  <div class=\"colab-df-container\">\n",
              "    <button class=\"colab-df-convert\" onclick=\"convertToInteractive('df-2f26b1d4-2a61-4505-b9da-c444658765d4')\"\n",
              "            title=\"Convert this dataframe to an interactive table.\"\n",
              "            style=\"display:none;\">\n",
              "\n",
              "  <svg xmlns=\"http://www.w3.org/2000/svg\" height=\"24px\" viewBox=\"0 -960 960 960\">\n",
              "    <path d=\"M120-120v-720h720v720H120Zm60-500h600v-160H180v160Zm220 220h160v-160H400v160Zm0 220h160v-160H400v160ZM180-400h160v-160H180v160Zm440 0h160v-160H620v160ZM180-180h160v-160H180v160Zm440 0h160v-160H620v160Z\"/>\n",
              "  </svg>\n",
              "    </button>\n",
              "\n",
              "  <style>\n",
              "    .colab-df-container {\n",
              "      display:flex;\n",
              "      gap: 12px;\n",
              "    }\n",
              "\n",
              "    .colab-df-convert {\n",
              "      background-color: #E8F0FE;\n",
              "      border: none;\n",
              "      border-radius: 50%;\n",
              "      cursor: pointer;\n",
              "      display: none;\n",
              "      fill: #1967D2;\n",
              "      height: 32px;\n",
              "      padding: 0 0 0 0;\n",
              "      width: 32px;\n",
              "    }\n",
              "\n",
              "    .colab-df-convert:hover {\n",
              "      background-color: #E2EBFA;\n",
              "      box-shadow: 0px 1px 2px rgba(60, 64, 67, 0.3), 0px 1px 3px 1px rgba(60, 64, 67, 0.15);\n",
              "      fill: #174EA6;\n",
              "    }\n",
              "\n",
              "    .colab-df-buttons div {\n",
              "      margin-bottom: 4px;\n",
              "    }\n",
              "\n",
              "    [theme=dark] .colab-df-convert {\n",
              "      background-color: #3B4455;\n",
              "      fill: #D2E3FC;\n",
              "    }\n",
              "\n",
              "    [theme=dark] .colab-df-convert:hover {\n",
              "      background-color: #434B5C;\n",
              "      box-shadow: 0px 1px 3px 1px rgba(0, 0, 0, 0.15);\n",
              "      filter: drop-shadow(0px 1px 2px rgba(0, 0, 0, 0.3));\n",
              "      fill: #FFFFFF;\n",
              "    }\n",
              "  </style>\n",
              "\n",
              "    <script>\n",
              "      const buttonEl =\n",
              "        document.querySelector('#df-2f26b1d4-2a61-4505-b9da-c444658765d4 button.colab-df-convert');\n",
              "      buttonEl.style.display =\n",
              "        google.colab.kernel.accessAllowed ? 'block' : 'none';\n",
              "\n",
              "      async function convertToInteractive(key) {\n",
              "        const element = document.querySelector('#df-2f26b1d4-2a61-4505-b9da-c444658765d4');\n",
              "        const dataTable =\n",
              "          await google.colab.kernel.invokeFunction('convertToInteractive',\n",
              "                                                    [key], {});\n",
              "        if (!dataTable) return;\n",
              "\n",
              "        const docLinkHtml = 'Like what you see? Visit the ' +\n",
              "          '<a target=\"_blank\" href=https://colab.research.google.com/notebooks/data_table.ipynb>data table notebook</a>'\n",
              "          + ' to learn more about interactive tables.';\n",
              "        element.innerHTML = '';\n",
              "        dataTable['output_type'] = 'display_data';\n",
              "        await google.colab.output.renderOutput(dataTable, element);\n",
              "        const docLink = document.createElement('div');\n",
              "        docLink.innerHTML = docLinkHtml;\n",
              "        element.appendChild(docLink);\n",
              "      }\n",
              "    </script>\n",
              "  </div>\n",
              "\n",
              "\n",
              "<div id=\"df-cf0cf39c-a138-4263-ab99-696e866106e2\">\n",
              "  <button class=\"colab-df-quickchart\" onclick=\"quickchart('df-cf0cf39c-a138-4263-ab99-696e866106e2')\"\n",
              "            title=\"Suggest charts.\"\n",
              "            style=\"display:none;\">\n",
              "\n",
              "<svg xmlns=\"http://www.w3.org/2000/svg\" height=\"24px\"viewBox=\"0 0 24 24\"\n",
              "     width=\"24px\">\n",
              "    <g>\n",
              "        <path d=\"M19 3H5c-1.1 0-2 .9-2 2v14c0 1.1.9 2 2 2h14c1.1 0 2-.9 2-2V5c0-1.1-.9-2-2-2zM9 17H7v-7h2v7zm4 0h-2V7h2v10zm4 0h-2v-4h2v4z\"/>\n",
              "    </g>\n",
              "</svg>\n",
              "  </button>\n",
              "\n",
              "<style>\n",
              "  .colab-df-quickchart {\n",
              "    background-color: #E8F0FE;\n",
              "    border: none;\n",
              "    border-radius: 50%;\n",
              "    cursor: pointer;\n",
              "    display: none;\n",
              "    fill: #1967D2;\n",
              "    height: 32px;\n",
              "    padding: 0 0 0 0;\n",
              "    width: 32px;\n",
              "  }\n",
              "\n",
              "  .colab-df-quickchart:hover {\n",
              "    background-color: #E2EBFA;\n",
              "    box-shadow: 0px 1px 2px rgba(60, 64, 67, 0.3), 0px 1px 3px 1px rgba(60, 64, 67, 0.15);\n",
              "    fill: #174EA6;\n",
              "  }\n",
              "\n",
              "  [theme=dark] .colab-df-quickchart {\n",
              "    background-color: #3B4455;\n",
              "    fill: #D2E3FC;\n",
              "  }\n",
              "\n",
              "  [theme=dark] .colab-df-quickchart:hover {\n",
              "    background-color: #434B5C;\n",
              "    box-shadow: 0px 1px 3px 1px rgba(0, 0, 0, 0.15);\n",
              "    filter: drop-shadow(0px 1px 2px rgba(0, 0, 0, 0.3));\n",
              "    fill: #FFFFFF;\n",
              "  }\n",
              "</style>\n",
              "\n",
              "  <script>\n",
              "    async function quickchart(key) {\n",
              "      const charts = await google.colab.kernel.invokeFunction(\n",
              "          'suggestCharts', [key], {});\n",
              "    }\n",
              "    (() => {\n",
              "      let quickchartButtonEl =\n",
              "        document.querySelector('#df-cf0cf39c-a138-4263-ab99-696e866106e2 button');\n",
              "      quickchartButtonEl.style.display =\n",
              "        google.colab.kernel.accessAllowed ? 'block' : 'none';\n",
              "    })();\n",
              "  </script>\n",
              "</div>\n",
              "    </div>\n",
              "  </div>\n"
            ]
          },
          "metadata": {},
          "execution_count": 60
        }
      ],
      "source": [
        "# load weekly sales dataset\n",
        "\n",
        "filename = \"/content/drive/MyDrive/Colab Notebooks/\\\n",
        "feature-engineering-for-time-series-forecasting/\\\n",
        "Datasets/online_retail_dataset.csv\"\n",
        "\n",
        "df = pd.read_csv(\n",
        "    filename,\n",
        "    usecols=[\"week\", \"United Kingdom\"],\n",
        "    parse_dates=[\"week\"],\n",
        "    index_col=[\"week\"],\n",
        ")\n",
        "\n",
        "df.columns = ['sales'] # rename column\n",
        "df.sort_index(inplace=True, ascending=True)\n",
        "\n",
        "# Let's extract the week number, month number, and year from the index\n",
        "df['wom'] = (df.index.day -1) // 7 + 1\n",
        "df['month'] = df.index.month\n",
        "\n",
        "df['wom'] = df['wom'].astype(int)  # Convert 'week' to int\n",
        "\n",
        "col_order = ['month', 'wom', 'sales']\n",
        "df = df[col_order]\n",
        "\n",
        "df.head()"
      ]
    },
    {
      "cell_type": "markdown",
      "id": "cdfe9415",
      "metadata": {
        "id": "cdfe9415"
      },
      "source": [
        "# Data analysis\n",
        "\n",
        "First, explore the time series.\n",
        "\n",
        "## Plot time series"
      ]
    },
    {
      "cell_type": "code",
      "execution_count": 61,
      "id": "f6ccfd20",
      "metadata": {
        "colab": {
          "base_uri": "https://localhost:8080/",
          "height": 1000
        },
        "id": "f6ccfd20",
        "outputId": "46137344-1eb1-4794-b7e1-52adcbe0ba8e"
      },
      "outputs": [
        {
          "output_type": "stream",
          "name": "stdout",
          "text": [
            "Date range:  2009-12-06 00:00:00 2011-12-11 00:00:00\n",
            "\n",
            "Columns:  Index(['month', 'wom', 'sales'], dtype='object')\n",
            "\n",
            "Null values:  month    0\n",
            "wom      0\n",
            "sales    0\n",
            "dtype: int64\n",
            "\n",
            "Rows x Columns:  (106, 3)\n",
            "<class 'pandas.core.frame.DataFrame'>\n",
            "DatetimeIndex: 106 entries, 2009-12-06 to 2011-12-11\n",
            "Data columns (total 3 columns):\n",
            " #   Column  Non-Null Count  Dtype  \n",
            "---  ------  --------------  -----  \n",
            " 0   month   106 non-null    int64  \n",
            " 1   wom     106 non-null    int64  \n",
            " 2   sales   106 non-null    float64\n",
            "dtypes: float64(1), int64(2)\n",
            "memory usage: 3.3 KB\n",
            "\n",
            "Data information:  None\n",
            "\n",
            "Data types:  month      int64\n",
            "wom        int64\n",
            "sales    float64\n",
            "dtype: object\n",
            "\n",
            "Data description:              month         wom          sales\n",
            "count  106.000000  106.000000     106.000000\n",
            "mean     6.556604    2.669811  138897.618085\n",
            "std      3.513458    1.270333   64441.495703\n",
            "min      1.000000    1.000000       0.000000\n",
            "25%      4.000000    2.000000   98287.817500\n",
            "50%      7.000000    3.000000  121260.400000\n",
            "75%     10.000000    4.000000  170476.663250\n",
            "max     12.000000    5.000000  372946.260000\n"
          ]
        },
        {
          "output_type": "display_data",
          "data": {
            "text/html": [
              "<html>\n",
              "<head><meta charset=\"utf-8\" /></head>\n",
              "<body>\n",
              "    <div>            <script src=\"https://cdnjs.cloudflare.com/ajax/libs/mathjax/2.7.5/MathJax.js?config=TeX-AMS-MML_SVG\"></script><script type=\"text/javascript\">if (window.MathJax && window.MathJax.Hub && window.MathJax.Hub.Config) {window.MathJax.Hub.Config({SVG: {font: \"STIX-Web\"}});}</script>                <script type=\"text/javascript\">window.PlotlyConfig = {MathJaxConfig: 'local'};</script>\n",
              "        <script charset=\"utf-8\" src=\"https://cdn.plot.ly/plotly-2.24.1.min.js\"></script>                <div id=\"3162d40c-d01c-48da-aa01-75e661fdf4eb\" class=\"plotly-graph-div\" style=\"height:525px; width:100%;\"></div>            <script type=\"text/javascript\">                                    window.PLOTLYENV=window.PLOTLYENV || {};                                    if (document.getElementById(\"3162d40c-d01c-48da-aa01-75e661fdf4eb\")) {                    Plotly.newPlot(                        \"3162d40c-d01c-48da-aa01-75e661fdf4eb\",                        [{\"hovertemplate\":\"week=%{x}\\u003cbr\\u003esales=%{y}\\u003cextra\\u003e\\u003c\\u002fextra\\u003e\",\"legendgroup\":\"\",\"line\":{\"color\":\"#636efa\",\"dash\":\"solid\",\"shape\":\"linear\"},\"marker\":{\"symbol\":\"circle\"},\"mode\":\"lines\",\"name\":\"\",\"orientation\":\"v\",\"showlegend\":false,\"x\":[\"2009-12-06T00:00:00\",\"2009-12-13T00:00:00\",\"2009-12-20T00:00:00\",\"2009-12-27T00:00:00\",\"2010-01-03T00:00:00\",\"2010-01-10T00:00:00\",\"2010-01-17T00:00:00\",\"2010-01-24T00:00:00\",\"2010-01-31T00:00:00\",\"2010-02-07T00:00:00\",\"2010-02-14T00:00:00\",\"2010-02-21T00:00:00\",\"2010-02-28T00:00:00\",\"2010-03-07T00:00:00\",\"2010-03-14T00:00:00\",\"2010-03-21T00:00:00\",\"2010-03-28T00:00:00\",\"2010-04-04T00:00:00\",\"2010-04-11T00:00:00\",\"2010-04-18T00:00:00\",\"2010-04-25T00:00:00\",\"2010-05-02T00:00:00\",\"2010-05-09T00:00:00\",\"2010-05-16T00:00:00\",\"2010-05-23T00:00:00\",\"2010-05-30T00:00:00\",\"2010-06-06T00:00:00\",\"2010-06-13T00:00:00\",\"2010-06-20T00:00:00\",\"2010-06-27T00:00:00\",\"2010-07-04T00:00:00\",\"2010-07-11T00:00:00\",\"2010-07-18T00:00:00\",\"2010-07-25T00:00:00\",\"2010-08-01T00:00:00\",\"2010-08-08T00:00:00\",\"2010-08-15T00:00:00\",\"2010-08-22T00:00:00\",\"2010-08-29T00:00:00\",\"2010-09-05T00:00:00\",\"2010-09-12T00:00:00\",\"2010-09-19T00:00:00\",\"2010-09-26T00:00:00\",\"2010-10-03T00:00:00\",\"2010-10-10T00:00:00\",\"2010-10-17T00:00:00\",\"2010-10-24T00:00:00\",\"2010-10-31T00:00:00\",\"2010-11-07T00:00:00\",\"2010-11-14T00:00:00\",\"2010-11-21T00:00:00\",\"2010-11-28T00:00:00\",\"2010-12-05T00:00:00\",\"2010-12-12T00:00:00\",\"2010-12-19T00:00:00\",\"2010-12-26T00:00:00\",\"2011-01-02T00:00:00\",\"2011-01-09T00:00:00\",\"2011-01-16T00:00:00\",\"2011-01-23T00:00:00\",\"2011-01-30T00:00:00\",\"2011-02-06T00:00:00\",\"2011-02-13T00:00:00\",\"2011-02-20T00:00:00\",\"2011-02-27T00:00:00\",\"2011-03-06T00:00:00\",\"2011-03-13T00:00:00\",\"2011-03-20T00:00:00\",\"2011-03-27T00:00:00\",\"2011-04-03T00:00:00\",\"2011-04-10T00:00:00\",\"2011-04-17T00:00:00\",\"2011-04-24T00:00:00\",\"2011-05-01T00:00:00\",\"2011-05-08T00:00:00\",\"2011-05-15T00:00:00\",\"2011-05-22T00:00:00\",\"2011-05-29T00:00:00\",\"2011-06-05T00:00:00\",\"2011-06-12T00:00:00\",\"2011-06-19T00:00:00\",\"2011-06-26T00:00:00\",\"2011-07-03T00:00:00\",\"2011-07-10T00:00:00\",\"2011-07-17T00:00:00\",\"2011-07-24T00:00:00\",\"2011-07-31T00:00:00\",\"2011-08-07T00:00:00\",\"2011-08-14T00:00:00\",\"2011-08-21T00:00:00\",\"2011-08-28T00:00:00\",\"2011-09-04T00:00:00\",\"2011-09-11T00:00:00\",\"2011-09-18T00:00:00\",\"2011-09-25T00:00:00\",\"2011-10-02T00:00:00\",\"2011-10-09T00:00:00\",\"2011-10-16T00:00:00\",\"2011-10-23T00:00:00\",\"2011-10-30T00:00:00\",\"2011-11-06T00:00:00\",\"2011-11-13T00:00:00\",\"2011-11-20T00:00:00\",\"2011-11-27T00:00:00\",\"2011-12-04T00:00:00\",\"2011-12-11T00:00:00\"],\"xaxis\":\"x\",\"y\":[213000.35,195810.04,182396.74,22007.77,0.0,112318.85,111460.47,82065.331,110790.591,95340.552,66868.85,115261.842,133606.692,126888.4,98040.0,130498.511,146691.21,110073.57,106629.01,112262.45,117823.11,155148.401,104203.41,138020.81,120034.66,130320.33,79636.37,185933.06,100020.73,91351.12,130757.87,102841.04,128661.84,120441.75,136678.29,111608.96,105085.2,119956.16,124254.86,94258.82,93875.58,125885.601,180679.14,257301.3,217442.93,248979.16,195588.52,163622.79,219731.99,252428.931,207058.471,225995.1,346578.64,331660.73,147026.08,30514.83,0.0,97321.08,109421.12,142150.28,80538.16,89957.44,73519.98,93632.23,99031.27,81516.54,92633.39,113393.11,112232.65,108705.73,92460.66,122567.941,104069.24,67331.93000000001,114728.47,132187.49,163319.98,121076.06,82246.14,169194.05,120797.68,90786.39,91812.15,114199.46,97244.71,134081.78,124542.861,133155.37,97651.84,125420.95,121444.74,89577.65,131164.24,187934.5,249563.051,170904.201,253713.54,161438.54,179106.07,190034.2,226770.53,229378.01,221870.29,210741.76,220213.99,372946.26],\"yaxis\":\"y\",\"type\":\"scatter\"}],                        {\"template\":{\"data\":{\"histogram2dcontour\":[{\"type\":\"histogram2dcontour\",\"colorbar\":{\"outlinewidth\":0,\"ticks\":\"\"},\"colorscale\":[[0.0,\"#0d0887\"],[0.1111111111111111,\"#46039f\"],[0.2222222222222222,\"#7201a8\"],[0.3333333333333333,\"#9c179e\"],[0.4444444444444444,\"#bd3786\"],[0.5555555555555556,\"#d8576b\"],[0.6666666666666666,\"#ed7953\"],[0.7777777777777778,\"#fb9f3a\"],[0.8888888888888888,\"#fdca26\"],[1.0,\"#f0f921\"]]}],\"choropleth\":[{\"type\":\"choropleth\",\"colorbar\":{\"outlinewidth\":0,\"ticks\":\"\"}}],\"histogram2d\":[{\"type\":\"histogram2d\",\"colorbar\":{\"outlinewidth\":0,\"ticks\":\"\"},\"colorscale\":[[0.0,\"#0d0887\"],[0.1111111111111111,\"#46039f\"],[0.2222222222222222,\"#7201a8\"],[0.3333333333333333,\"#9c179e\"],[0.4444444444444444,\"#bd3786\"],[0.5555555555555556,\"#d8576b\"],[0.6666666666666666,\"#ed7953\"],[0.7777777777777778,\"#fb9f3a\"],[0.8888888888888888,\"#fdca26\"],[1.0,\"#f0f921\"]]}],\"heatmap\":[{\"type\":\"heatmap\",\"colorbar\":{\"outlinewidth\":0,\"ticks\":\"\"},\"colorscale\":[[0.0,\"#0d0887\"],[0.1111111111111111,\"#46039f\"],[0.2222222222222222,\"#7201a8\"],[0.3333333333333333,\"#9c179e\"],[0.4444444444444444,\"#bd3786\"],[0.5555555555555556,\"#d8576b\"],[0.6666666666666666,\"#ed7953\"],[0.7777777777777778,\"#fb9f3a\"],[0.8888888888888888,\"#fdca26\"],[1.0,\"#f0f921\"]]}],\"heatmapgl\":[{\"type\":\"heatmapgl\",\"colorbar\":{\"outlinewidth\":0,\"ticks\":\"\"},\"colorscale\":[[0.0,\"#0d0887\"],[0.1111111111111111,\"#46039f\"],[0.2222222222222222,\"#7201a8\"],[0.3333333333333333,\"#9c179e\"],[0.4444444444444444,\"#bd3786\"],[0.5555555555555556,\"#d8576b\"],[0.6666666666666666,\"#ed7953\"],[0.7777777777777778,\"#fb9f3a\"],[0.8888888888888888,\"#fdca26\"],[1.0,\"#f0f921\"]]}],\"contourcarpet\":[{\"type\":\"contourcarpet\",\"colorbar\":{\"outlinewidth\":0,\"ticks\":\"\"}}],\"contour\":[{\"type\":\"contour\",\"colorbar\":{\"outlinewidth\":0,\"ticks\":\"\"},\"colorscale\":[[0.0,\"#0d0887\"],[0.1111111111111111,\"#46039f\"],[0.2222222222222222,\"#7201a8\"],[0.3333333333333333,\"#9c179e\"],[0.4444444444444444,\"#bd3786\"],[0.5555555555555556,\"#d8576b\"],[0.6666666666666666,\"#ed7953\"],[0.7777777777777778,\"#fb9f3a\"],[0.8888888888888888,\"#fdca26\"],[1.0,\"#f0f921\"]]}],\"surface\":[{\"type\":\"surface\",\"colorbar\":{\"outlinewidth\":0,\"ticks\":\"\"},\"colorscale\":[[0.0,\"#0d0887\"],[0.1111111111111111,\"#46039f\"],[0.2222222222222222,\"#7201a8\"],[0.3333333333333333,\"#9c179e\"],[0.4444444444444444,\"#bd3786\"],[0.5555555555555556,\"#d8576b\"],[0.6666666666666666,\"#ed7953\"],[0.7777777777777778,\"#fb9f3a\"],[0.8888888888888888,\"#fdca26\"],[1.0,\"#f0f921\"]]}],\"mesh3d\":[{\"type\":\"mesh3d\",\"colorbar\":{\"outlinewidth\":0,\"ticks\":\"\"}}],\"scatter\":[{\"fillpattern\":{\"fillmode\":\"overlay\",\"size\":10,\"solidity\":0.2},\"type\":\"scatter\"}],\"parcoords\":[{\"type\":\"parcoords\",\"line\":{\"colorbar\":{\"outlinewidth\":0,\"ticks\":\"\"}}}],\"scatterpolargl\":[{\"type\":\"scatterpolargl\",\"marker\":{\"colorbar\":{\"outlinewidth\":0,\"ticks\":\"\"}}}],\"bar\":[{\"error_x\":{\"color\":\"#2a3f5f\"},\"error_y\":{\"color\":\"#2a3f5f\"},\"marker\":{\"line\":{\"color\":\"#E5ECF6\",\"width\":0.5},\"pattern\":{\"fillmode\":\"overlay\",\"size\":10,\"solidity\":0.2}},\"type\":\"bar\"}],\"scattergeo\":[{\"type\":\"scattergeo\",\"marker\":{\"colorbar\":{\"outlinewidth\":0,\"ticks\":\"\"}}}],\"scatterpolar\":[{\"type\":\"scatterpolar\",\"marker\":{\"colorbar\":{\"outlinewidth\":0,\"ticks\":\"\"}}}],\"histogram\":[{\"marker\":{\"pattern\":{\"fillmode\":\"overlay\",\"size\":10,\"solidity\":0.2}},\"type\":\"histogram\"}],\"scattergl\":[{\"type\":\"scattergl\",\"marker\":{\"colorbar\":{\"outlinewidth\":0,\"ticks\":\"\"}}}],\"scatter3d\":[{\"type\":\"scatter3d\",\"line\":{\"colorbar\":{\"outlinewidth\":0,\"ticks\":\"\"}},\"marker\":{\"colorbar\":{\"outlinewidth\":0,\"ticks\":\"\"}}}],\"scattermapbox\":[{\"type\":\"scattermapbox\",\"marker\":{\"colorbar\":{\"outlinewidth\":0,\"ticks\":\"\"}}}],\"scatterternary\":[{\"type\":\"scatterternary\",\"marker\":{\"colorbar\":{\"outlinewidth\":0,\"ticks\":\"\"}}}],\"scattercarpet\":[{\"type\":\"scattercarpet\",\"marker\":{\"colorbar\":{\"outlinewidth\":0,\"ticks\":\"\"}}}],\"carpet\":[{\"aaxis\":{\"endlinecolor\":\"#2a3f5f\",\"gridcolor\":\"white\",\"linecolor\":\"white\",\"minorgridcolor\":\"white\",\"startlinecolor\":\"#2a3f5f\"},\"baxis\":{\"endlinecolor\":\"#2a3f5f\",\"gridcolor\":\"white\",\"linecolor\":\"white\",\"minorgridcolor\":\"white\",\"startlinecolor\":\"#2a3f5f\"},\"type\":\"carpet\"}],\"table\":[{\"cells\":{\"fill\":{\"color\":\"#EBF0F8\"},\"line\":{\"color\":\"white\"}},\"header\":{\"fill\":{\"color\":\"#C8D4E3\"},\"line\":{\"color\":\"white\"}},\"type\":\"table\"}],\"barpolar\":[{\"marker\":{\"line\":{\"color\":\"#E5ECF6\",\"width\":0.5},\"pattern\":{\"fillmode\":\"overlay\",\"size\":10,\"solidity\":0.2}},\"type\":\"barpolar\"}],\"pie\":[{\"automargin\":true,\"type\":\"pie\"}]},\"layout\":{\"autotypenumbers\":\"strict\",\"colorway\":[\"#636efa\",\"#EF553B\",\"#00cc96\",\"#ab63fa\",\"#FFA15A\",\"#19d3f3\",\"#FF6692\",\"#B6E880\",\"#FF97FF\",\"#FECB52\"],\"font\":{\"color\":\"#2a3f5f\"},\"hovermode\":\"closest\",\"hoverlabel\":{\"align\":\"left\"},\"paper_bgcolor\":\"white\",\"plot_bgcolor\":\"#E5ECF6\",\"polar\":{\"bgcolor\":\"#E5ECF6\",\"angularaxis\":{\"gridcolor\":\"white\",\"linecolor\":\"white\",\"ticks\":\"\"},\"radialaxis\":{\"gridcolor\":\"white\",\"linecolor\":\"white\",\"ticks\":\"\"}},\"ternary\":{\"bgcolor\":\"#E5ECF6\",\"aaxis\":{\"gridcolor\":\"white\",\"linecolor\":\"white\",\"ticks\":\"\"},\"baxis\":{\"gridcolor\":\"white\",\"linecolor\":\"white\",\"ticks\":\"\"},\"caxis\":{\"gridcolor\":\"white\",\"linecolor\":\"white\",\"ticks\":\"\"}},\"coloraxis\":{\"colorbar\":{\"outlinewidth\":0,\"ticks\":\"\"}},\"colorscale\":{\"sequential\":[[0.0,\"#0d0887\"],[0.1111111111111111,\"#46039f\"],[0.2222222222222222,\"#7201a8\"],[0.3333333333333333,\"#9c179e\"],[0.4444444444444444,\"#bd3786\"],[0.5555555555555556,\"#d8576b\"],[0.6666666666666666,\"#ed7953\"],[0.7777777777777778,\"#fb9f3a\"],[0.8888888888888888,\"#fdca26\"],[1.0,\"#f0f921\"]],\"sequentialminus\":[[0.0,\"#0d0887\"],[0.1111111111111111,\"#46039f\"],[0.2222222222222222,\"#7201a8\"],[0.3333333333333333,\"#9c179e\"],[0.4444444444444444,\"#bd3786\"],[0.5555555555555556,\"#d8576b\"],[0.6666666666666666,\"#ed7953\"],[0.7777777777777778,\"#fb9f3a\"],[0.8888888888888888,\"#fdca26\"],[1.0,\"#f0f921\"]],\"diverging\":[[0,\"#8e0152\"],[0.1,\"#c51b7d\"],[0.2,\"#de77ae\"],[0.3,\"#f1b6da\"],[0.4,\"#fde0ef\"],[0.5,\"#f7f7f7\"],[0.6,\"#e6f5d0\"],[0.7,\"#b8e186\"],[0.8,\"#7fbc41\"],[0.9,\"#4d9221\"],[1,\"#276419\"]]},\"xaxis\":{\"gridcolor\":\"white\",\"linecolor\":\"white\",\"ticks\":\"\",\"title\":{\"standoff\":15},\"zerolinecolor\":\"white\",\"automargin\":true,\"zerolinewidth\":2},\"yaxis\":{\"gridcolor\":\"white\",\"linecolor\":\"white\",\"ticks\":\"\",\"title\":{\"standoff\":15},\"zerolinecolor\":\"white\",\"automargin\":true,\"zerolinewidth\":2},\"scene\":{\"xaxis\":{\"backgroundcolor\":\"#E5ECF6\",\"gridcolor\":\"white\",\"linecolor\":\"white\",\"showbackground\":true,\"ticks\":\"\",\"zerolinecolor\":\"white\",\"gridwidth\":2},\"yaxis\":{\"backgroundcolor\":\"#E5ECF6\",\"gridcolor\":\"white\",\"linecolor\":\"white\",\"showbackground\":true,\"ticks\":\"\",\"zerolinecolor\":\"white\",\"gridwidth\":2},\"zaxis\":{\"backgroundcolor\":\"#E5ECF6\",\"gridcolor\":\"white\",\"linecolor\":\"white\",\"showbackground\":true,\"ticks\":\"\",\"zerolinecolor\":\"white\",\"gridwidth\":2}},\"shapedefaults\":{\"line\":{\"color\":\"#2a3f5f\"}},\"annotationdefaults\":{\"arrowcolor\":\"#2a3f5f\",\"arrowhead\":0,\"arrowwidth\":1},\"geo\":{\"bgcolor\":\"white\",\"landcolor\":\"#E5ECF6\",\"subunitcolor\":\"white\",\"showland\":true,\"showlakes\":true,\"lakecolor\":\"white\"},\"title\":{\"x\":0.05},\"mapbox\":{\"style\":\"light\"}}},\"xaxis\":{\"anchor\":\"y\",\"domain\":[0.0,1.0],\"title\":{\"text\":\"Week\"},\"showgrid\":true},\"yaxis\":{\"anchor\":\"x\",\"domain\":[0.0,1.0],\"title\":{\"text\":\"Sales\"},\"showgrid\":true},\"legend\":{\"tracegroupgap\":0},\"margin\":{\"t\":60},\"title\":{\"text\":\"Sales by Week\"}},                        {\"responsive\": true}                    ).then(function(){\n",
              "                            \n",
              "var gd = document.getElementById('3162d40c-d01c-48da-aa01-75e661fdf4eb');\n",
              "var x = new MutationObserver(function (mutations, observer) {{\n",
              "        var display = window.getComputedStyle(gd).display;\n",
              "        if (!display || display === 'none') {{\n",
              "            console.log([gd, 'removed!']);\n",
              "            Plotly.purge(gd);\n",
              "            observer.disconnect();\n",
              "        }}\n",
              "}});\n",
              "\n",
              "// Listen for the removal of the full notebook cells\n",
              "var notebookContainer = gd.closest('#notebook-container');\n",
              "if (notebookContainer) {{\n",
              "    x.observe(notebookContainer, {childList: true});\n",
              "}}\n",
              "\n",
              "// Listen for the clearing of the current output cell\n",
              "var outputEl = gd.closest('.output');\n",
              "if (outputEl) {{\n",
              "    x.observe(outputEl, {childList: true});\n",
              "}}\n",
              "\n",
              "                        })                };                            </script>        </div>\n",
              "</body>\n",
              "</html>"
            ]
          },
          "metadata": {}
        }
      ],
      "source": [
        "# What's the date range we have data for?\n",
        "print(\"Date range: \", df.index.min(), df.index.max())\n",
        "\n",
        "# What are our columns?\n",
        "print(\"\\nColumns: \", df.columns)\n",
        "\n",
        "# How many nulls do we have?\n",
        "print(\"\\nNull values: \", df.isnull().sum())\n",
        "\n",
        "# What's the shape of our dataframe?\n",
        "print(\"\\nRows x Columns: \", df.shape)\n",
        "\n",
        "# Column info?\n",
        "print(\"\\nData information: \", df.info())\n",
        "\n",
        "# Column dtypes?\n",
        "print(\"\\nData types: \", df.dtypes)\n",
        "\n",
        "# Describe our data\n",
        "print(\"\\nData description: \", df.describe())\n",
        "\n",
        "\n",
        "fig = px.line(df, x=df.index, y='sales', line_shape='linear')\n",
        "\n",
        "fig.update_layout(\n",
        "    title=\"Sales by Week\",\n",
        "    xaxis_title=\"Week\",\n",
        "    yaxis_title=\"Sales\",\n",
        "    xaxis=dict(showgrid=True),\n",
        "    yaxis=dict(showgrid=True),\n",
        ")\n",
        "\n",
        "fig.show()\n"
      ]
    },
    {
      "cell_type": "markdown",
      "id": "6ceabd79",
      "metadata": {
        "id": "6ceabd79"
      },
      "source": [
        "## Missing data\n",
        "\n",
        "Check if there are missing values in the time series."
      ]
    },
    {
      "cell_type": "code",
      "execution_count": 62,
      "id": "9f63e3f1",
      "metadata": {
        "colab": {
          "base_uri": "https://localhost:8080/"
        },
        "id": "9f63e3f1",
        "outputId": "040e28f0-a315-42cc-ea8c-c19dff22d925"
      },
      "outputs": [
        {
          "output_type": "stream",
          "name": "stdout",
          "text": [
            "month    0\n",
            "wom      0\n",
            "sales    0\n",
            "dtype: int64\n",
            "2009-12-06 00:00:00 2011-12-11 00:00:00\n"
          ]
        }
      ],
      "source": [
        "print(df.isna().sum())\n",
        "print(df.index.min(), df.index.max())"
      ]
    },
    {
      "cell_type": "markdown",
      "id": "9c484bca",
      "metadata": {
        "id": "9c484bca"
      },
      "source": [
        "## Missing timestamps\n",
        "\n",
        "Check if there are missing timestamps in the index."
      ]
    },
    {
      "cell_type": "code",
      "execution_count": 63,
      "id": "abfa53ec",
      "metadata": {
        "colab": {
          "base_uri": "https://localhost:8080/"
        },
        "id": "abfa53ec",
        "outputId": "acd8a9ae-1124-4ce3-c7f3-7ed964defc62"
      },
      "outputs": [
        {
          "output_type": "stream",
          "name": "stdout",
          "text": [
            "Missing Timestamps: DatetimeIndex([], dtype='datetime64[ns]', freq='W-SUN')\n"
          ]
        }
      ],
      "source": [
        "data_index = pd.date_range(start=df.index.min(), end=df.index.max(), freq='W')\n",
        "missing_timestamps = data_index.difference(df.index)\n",
        "print(f\"Missing Timestamps: {missing_timestamps}\")"
      ]
    },
    {
      "cell_type": "markdown",
      "id": "444ca303",
      "metadata": {
        "id": "444ca303"
      },
      "source": [
        "## Seasonality\n",
        "\n",
        "Does the time series show any obvious seasonal pattern?"
      ]
    },
    {
      "cell_type": "code",
      "execution_count": 64,
      "id": "dbb30a8c",
      "metadata": {
        "colab": {
          "base_uri": "https://localhost:8080/",
          "height": 542
        },
        "id": "dbb30a8c",
        "outputId": "252b959f-a608-4d21-bcab-07b46f2c008d"
      },
      "outputs": [
        {
          "output_type": "display_data",
          "data": {
            "text/html": [
              "<html>\n",
              "<head><meta charset=\"utf-8\" /></head>\n",
              "<body>\n",
              "    <div>            <script src=\"https://cdnjs.cloudflare.com/ajax/libs/mathjax/2.7.5/MathJax.js?config=TeX-AMS-MML_SVG\"></script><script type=\"text/javascript\">if (window.MathJax && window.MathJax.Hub && window.MathJax.Hub.Config) {window.MathJax.Hub.Config({SVG: {font: \"STIX-Web\"}});}</script>                <script type=\"text/javascript\">window.PlotlyConfig = {MathJaxConfig: 'local'};</script>\n",
              "        <script charset=\"utf-8\" src=\"https://cdn.plot.ly/plotly-2.24.1.min.js\"></script>                <div id=\"f9bb2056-7ddb-4ef2-8b03-49f03d4595b9\" class=\"plotly-graph-div\" style=\"height:525px; width:100%;\"></div>            <script type=\"text/javascript\">                                    window.PLOTLYENV=window.PLOTLYENV || {};                                    if (document.getElementById(\"f9bb2056-7ddb-4ef2-8b03-49f03d4595b9\")) {                    Plotly.newPlot(                        \"f9bb2056-7ddb-4ef2-8b03-49f03d4595b9\",                        [{\"mode\":\"lines\",\"name\":\"Trend\",\"x\":[\"2009-12-06T00:00:00\",\"2009-12-13T00:00:00\",\"2009-12-20T00:00:00\",\"2009-12-27T00:00:00\",\"2010-01-03T00:00:00\",\"2010-01-10T00:00:00\",\"2010-01-17T00:00:00\",\"2010-01-24T00:00:00\",\"2010-01-31T00:00:00\",\"2010-02-07T00:00:00\",\"2010-02-14T00:00:00\",\"2010-02-21T00:00:00\",\"2010-02-28T00:00:00\",\"2010-03-07T00:00:00\",\"2010-03-14T00:00:00\",\"2010-03-21T00:00:00\",\"2010-03-28T00:00:00\",\"2010-04-04T00:00:00\",\"2010-04-11T00:00:00\",\"2010-04-18T00:00:00\",\"2010-04-25T00:00:00\",\"2010-05-02T00:00:00\",\"2010-05-09T00:00:00\",\"2010-05-16T00:00:00\",\"2010-05-23T00:00:00\",\"2010-05-30T00:00:00\",\"2010-06-06T00:00:00\",\"2010-06-13T00:00:00\",\"2010-06-20T00:00:00\",\"2010-06-27T00:00:00\",\"2010-07-04T00:00:00\",\"2010-07-11T00:00:00\",\"2010-07-18T00:00:00\",\"2010-07-25T00:00:00\",\"2010-08-01T00:00:00\",\"2010-08-08T00:00:00\",\"2010-08-15T00:00:00\",\"2010-08-22T00:00:00\",\"2010-08-29T00:00:00\",\"2010-09-05T00:00:00\",\"2010-09-12T00:00:00\",\"2010-09-19T00:00:00\",\"2010-09-26T00:00:00\",\"2010-10-03T00:00:00\",\"2010-10-10T00:00:00\",\"2010-10-17T00:00:00\",\"2010-10-24T00:00:00\",\"2010-10-31T00:00:00\",\"2010-11-07T00:00:00\",\"2010-11-14T00:00:00\",\"2010-11-21T00:00:00\",\"2010-11-28T00:00:00\",\"2010-12-05T00:00:00\",\"2010-12-12T00:00:00\",\"2010-12-19T00:00:00\",\"2010-12-26T00:00:00\",\"2011-01-02T00:00:00\",\"2011-01-09T00:00:00\",\"2011-01-16T00:00:00\",\"2011-01-23T00:00:00\",\"2011-01-30T00:00:00\",\"2011-02-06T00:00:00\",\"2011-02-13T00:00:00\",\"2011-02-20T00:00:00\",\"2011-02-27T00:00:00\",\"2011-03-06T00:00:00\",\"2011-03-13T00:00:00\",\"2011-03-20T00:00:00\",\"2011-03-27T00:00:00\",\"2011-04-03T00:00:00\",\"2011-04-10T00:00:00\",\"2011-04-17T00:00:00\",\"2011-04-24T00:00:00\",\"2011-05-01T00:00:00\",\"2011-05-08T00:00:00\",\"2011-05-15T00:00:00\",\"2011-05-22T00:00:00\",\"2011-05-29T00:00:00\",\"2011-06-05T00:00:00\",\"2011-06-12T00:00:00\",\"2011-06-19T00:00:00\",\"2011-06-26T00:00:00\",\"2011-07-03T00:00:00\",\"2011-07-10T00:00:00\",\"2011-07-17T00:00:00\",\"2011-07-24T00:00:00\",\"2011-07-31T00:00:00\",\"2011-08-07T00:00:00\",\"2011-08-14T00:00:00\",\"2011-08-21T00:00:00\",\"2011-08-28T00:00:00\",\"2011-09-04T00:00:00\",\"2011-09-11T00:00:00\",\"2011-09-18T00:00:00\",\"2011-09-25T00:00:00\",\"2011-10-02T00:00:00\",\"2011-10-09T00:00:00\",\"2011-10-16T00:00:00\",\"2011-10-23T00:00:00\",\"2011-10-30T00:00:00\",\"2011-11-06T00:00:00\",\"2011-11-13T00:00:00\",\"2011-11-20T00:00:00\",\"2011-11-27T00:00:00\",\"2011-12-04T00:00:00\",\"2011-12-11T00:00:00\"],\"y\":[null,null,null,null,null,null,null,null,null,null,null,null,null,null,null,null,null,null,null,null,null,null,null,null,null,null,137008.20534615385,139598.86861538465,140565.02275,140306.71890384617,140388.5175576923,140244.30823076924,140080.48976923077,140638.62052884614,140925.47166346156,140582.82221153847,140595.0146923077,140450.9908269231,139910.55780769233,139141.8339423077,138653.5794230769,138437.11777884618,137941.3104615385,137596.82584615386,137447.43940384616,137410.29652884614,137377.13903846155,136400.50114423074,135657.3145,135702.4273846154,136062.5427692308,136389.8605576923,136326.06728846155,136190.20921153846,136229.03555769232,136423.3838269231,136043.47565384617,135778.21315384613,135585.34094230772,135414.40728846155,135428.87460576923,135519.3648076923,135655.06721153844,135636.13865384617,135661.66432692306,135589.6326923077,135903.16625,136858.3350865385,138117.30441346153,137948.908375,137466.92290384613,136973.94203846157,135973.72021153846,136069.19098076923,136390.8251153846,136236.85991346152,136157.63777884614,136153.39238461538,134791.68094230772,133973.61248076925,null,null,null,null,null,null,null,null,null,null,null,null,null,null,null,null,null,null,null,null,null,null,null,null,null,null],\"type\":\"scatter\",\"xaxis\":\"x\",\"yaxis\":\"y\"},{\"mode\":\"lines\",\"name\":\"Seasonal\",\"x\":[\"2009-12-06T00:00:00\",\"2009-12-13T00:00:00\",\"2009-12-20T00:00:00\",\"2009-12-27T00:00:00\",\"2010-01-03T00:00:00\",\"2010-01-10T00:00:00\",\"2010-01-17T00:00:00\",\"2010-01-24T00:00:00\",\"2010-01-31T00:00:00\",\"2010-02-07T00:00:00\",\"2010-02-14T00:00:00\",\"2010-02-21T00:00:00\",\"2010-02-28T00:00:00\",\"2010-03-07T00:00:00\",\"2010-03-14T00:00:00\",\"2010-03-21T00:00:00\",\"2010-03-28T00:00:00\",\"2010-04-04T00:00:00\",\"2010-04-11T00:00:00\",\"2010-04-18T00:00:00\",\"2010-04-25T00:00:00\",\"2010-05-02T00:00:00\",\"2010-05-09T00:00:00\",\"2010-05-16T00:00:00\",\"2010-05-23T00:00:00\",\"2010-05-30T00:00:00\",\"2010-06-06T00:00:00\",\"2010-06-13T00:00:00\",\"2010-06-20T00:00:00\",\"2010-06-27T00:00:00\",\"2010-07-04T00:00:00\",\"2010-07-11T00:00:00\",\"2010-07-18T00:00:00\",\"2010-07-25T00:00:00\",\"2010-08-01T00:00:00\",\"2010-08-08T00:00:00\",\"2010-08-15T00:00:00\",\"2010-08-22T00:00:00\",\"2010-08-29T00:00:00\",\"2010-09-05T00:00:00\",\"2010-09-12T00:00:00\",\"2010-09-19T00:00:00\",\"2010-09-26T00:00:00\",\"2010-10-03T00:00:00\",\"2010-10-10T00:00:00\",\"2010-10-17T00:00:00\",\"2010-10-24T00:00:00\",\"2010-10-31T00:00:00\",\"2010-11-07T00:00:00\",\"2010-11-14T00:00:00\",\"2010-11-21T00:00:00\",\"2010-11-28T00:00:00\",\"2010-12-05T00:00:00\",\"2010-12-12T00:00:00\",\"2010-12-19T00:00:00\",\"2010-12-26T00:00:00\",\"2011-01-02T00:00:00\",\"2011-01-09T00:00:00\",\"2011-01-16T00:00:00\",\"2011-01-23T00:00:00\",\"2011-01-30T00:00:00\",\"2011-02-06T00:00:00\",\"2011-02-13T00:00:00\",\"2011-02-20T00:00:00\",\"2011-02-27T00:00:00\",\"2011-03-06T00:00:00\",\"2011-03-13T00:00:00\",\"2011-03-20T00:00:00\",\"2011-03-27T00:00:00\",\"2011-04-03T00:00:00\",\"2011-04-10T00:00:00\",\"2011-04-17T00:00:00\",\"2011-04-24T00:00:00\",\"2011-05-01T00:00:00\",\"2011-05-08T00:00:00\",\"2011-05-15T00:00:00\",\"2011-05-22T00:00:00\",\"2011-05-29T00:00:00\",\"2011-06-05T00:00:00\",\"2011-06-12T00:00:00\",\"2011-06-19T00:00:00\",\"2011-06-26T00:00:00\",\"2011-07-03T00:00:00\",\"2011-07-10T00:00:00\",\"2011-07-17T00:00:00\",\"2011-07-24T00:00:00\",\"2011-07-31T00:00:00\",\"2011-08-07T00:00:00\",\"2011-08-14T00:00:00\",\"2011-08-21T00:00:00\",\"2011-08-28T00:00:00\",\"2011-09-04T00:00:00\",\"2011-09-11T00:00:00\",\"2011-09-18T00:00:00\",\"2011-09-25T00:00:00\",\"2011-10-02T00:00:00\",\"2011-10-09T00:00:00\",\"2011-10-16T00:00:00\",\"2011-10-23T00:00:00\",\"2011-10-30T00:00:00\",\"2011-11-06T00:00:00\",\"2011-11-13T00:00:00\",\"2011-11-20T00:00:00\",\"2011-11-27T00:00:00\",\"2011-12-04T00:00:00\",\"2011-12-11T00:00:00\"],\"y\":[211459.07259781804,196677.0206747411,12003.54432858726,-104702.0539406435,-134836.9757675666,-37250.63326756653,-24957.72105602814,7942.372597818045,-53684.21471948964,-44355.424921412705,-60928.58732525885,-40797.40876756658,-35423.89444064346,-52866.592806028115,-42063.27636372042,-22258.725200258894,-24678.15452718195,-28036.678488720412,-43799.76301756654,-13199.501152181969,-30697.98032525886,-67530.76109448963,-20455.855229105,-2842.8700271819403,28368.842107433462,-13870.832498335789,-53752.188257951195,41983.81433820263,-39337.79286372042,-47749.09901756658,-8424.14767141272,-36196.768344489654,-10212.149882951184,-18990.370642566544,-3040.681777181963,-27767.362325258873,-34303.314806028124,-19288.330940643515,-14449.197921412735,-43676.514056028114,-43571.49953679732,-11345.016892566593,43944.32942474111,120910.97404012571,81201.99048243342,112775.36335743345,59417.88084781803,28428.788742048855,85281.17538627957,117933.00350166419,72202.4281170488,90811.7393285873,211459.07259781804,196677.0206747411,12003.54432858726,-104702.0539406435,-134836.9757675666,-37250.63326756653,-24957.72105602814,7942.372597818045,-53684.21471948964,-44355.424921412705,-60928.58732525885,-40797.40876756658,-35423.89444064346,-52866.592806028115,-42063.27636372042,-22258.725200258894,-24678.15452718195,-28036.678488720412,-43799.76301756654,-13199.501152181969,-30697.98032525886,-67530.76109448963,-20455.855229105,-2842.8700271819403,28368.842107433462,-13870.832498335789,-53752.188257951195,41983.81433820263,-39337.79286372042,-47749.09901756658,-8424.14767141272,-36196.768344489654,-10212.149882951184,-18990.370642566544,-3040.681777181963,-27767.362325258873,-34303.314806028124,-19288.330940643515,-14449.197921412735,-43676.514056028114,-43571.49953679732,-11345.016892566593,43944.32942474111,120910.97404012571,81201.99048243342,112775.36335743345,59417.88084781803,28428.788742048855,85281.17538627957,117933.00350166419,72202.4281170488,90811.7393285873,211459.07259781804,196677.0206747411],\"type\":\"scatter\",\"xaxis\":\"x2\",\"yaxis\":\"y2\"},{\"mode\":\"lines\",\"name\":\"Residual\",\"x\":[\"2009-12-06T00:00:00\",\"2009-12-13T00:00:00\",\"2009-12-20T00:00:00\",\"2009-12-27T00:00:00\",\"2010-01-03T00:00:00\",\"2010-01-10T00:00:00\",\"2010-01-17T00:00:00\",\"2010-01-24T00:00:00\",\"2010-01-31T00:00:00\",\"2010-02-07T00:00:00\",\"2010-02-14T00:00:00\",\"2010-02-21T00:00:00\",\"2010-02-28T00:00:00\",\"2010-03-07T00:00:00\",\"2010-03-14T00:00:00\",\"2010-03-21T00:00:00\",\"2010-03-28T00:00:00\",\"2010-04-04T00:00:00\",\"2010-04-11T00:00:00\",\"2010-04-18T00:00:00\",\"2010-04-25T00:00:00\",\"2010-05-02T00:00:00\",\"2010-05-09T00:00:00\",\"2010-05-16T00:00:00\",\"2010-05-23T00:00:00\",\"2010-05-30T00:00:00\",\"2010-06-06T00:00:00\",\"2010-06-13T00:00:00\",\"2010-06-20T00:00:00\",\"2010-06-27T00:00:00\",\"2010-07-04T00:00:00\",\"2010-07-11T00:00:00\",\"2010-07-18T00:00:00\",\"2010-07-25T00:00:00\",\"2010-08-01T00:00:00\",\"2010-08-08T00:00:00\",\"2010-08-15T00:00:00\",\"2010-08-22T00:00:00\",\"2010-08-29T00:00:00\",\"2010-09-05T00:00:00\",\"2010-09-12T00:00:00\",\"2010-09-19T00:00:00\",\"2010-09-26T00:00:00\",\"2010-10-03T00:00:00\",\"2010-10-10T00:00:00\",\"2010-10-17T00:00:00\",\"2010-10-24T00:00:00\",\"2010-10-31T00:00:00\",\"2010-11-07T00:00:00\",\"2010-11-14T00:00:00\",\"2010-11-21T00:00:00\",\"2010-11-28T00:00:00\",\"2010-12-05T00:00:00\",\"2010-12-12T00:00:00\",\"2010-12-19T00:00:00\",\"2010-12-26T00:00:00\",\"2011-01-02T00:00:00\",\"2011-01-09T00:00:00\",\"2011-01-16T00:00:00\",\"2011-01-23T00:00:00\",\"2011-01-30T00:00:00\",\"2011-02-06T00:00:00\",\"2011-02-13T00:00:00\",\"2011-02-20T00:00:00\",\"2011-02-27T00:00:00\",\"2011-03-06T00:00:00\",\"2011-03-13T00:00:00\",\"2011-03-20T00:00:00\",\"2011-03-27T00:00:00\",\"2011-04-03T00:00:00\",\"2011-04-10T00:00:00\",\"2011-04-17T00:00:00\",\"2011-04-24T00:00:00\",\"2011-05-01T00:00:00\",\"2011-05-08T00:00:00\",\"2011-05-15T00:00:00\",\"2011-05-22T00:00:00\",\"2011-05-29T00:00:00\",\"2011-06-05T00:00:00\",\"2011-06-12T00:00:00\",\"2011-06-19T00:00:00\",\"2011-06-26T00:00:00\",\"2011-07-03T00:00:00\",\"2011-07-10T00:00:00\",\"2011-07-17T00:00:00\",\"2011-07-24T00:00:00\",\"2011-07-31T00:00:00\",\"2011-08-07T00:00:00\",\"2011-08-14T00:00:00\",\"2011-08-21T00:00:00\",\"2011-08-28T00:00:00\",\"2011-09-04T00:00:00\",\"2011-09-11T00:00:00\",\"2011-09-18T00:00:00\",\"2011-09-25T00:00:00\",\"2011-10-02T00:00:00\",\"2011-10-09T00:00:00\",\"2011-10-16T00:00:00\",\"2011-10-23T00:00:00\",\"2011-10-30T00:00:00\",\"2011-11-06T00:00:00\",\"2011-11-13T00:00:00\",\"2011-11-20T00:00:00\",\"2011-11-27T00:00:00\",\"2011-12-04T00:00:00\",\"2011-12-11T00:00:00\"],\"y\":[null,null,null,null,null,null,null,null,null,null,null,null,null,null,null,null,null,null,null,null,null,null,null,null,null,null,-3619.647088202655,4350.377046412716,-1206.499886279591,-1206.499886279591,-1206.499886279591,-1206.499886279591,-1206.499886279591,-1206.499886279591,-1206.4998862795906,-1206.499886279591,-1206.499886279591,-1206.499886279591,-1206.499886279591,-1206.499886279591,-1206.499886279591,-1206.499886279591,-1206.499886279591,-1206.499886279591,-1206.499886279591,-1206.499886279591,-1206.499886279591,-1206.499886279591,-1206.499886279591,-1206.499886279591,-1206.499886279591,-1206.499886279591,-1206.4998862795765,-1206.4998862795765,-1206.499886279591,-1206.499886279591,-1206.4998862795765,-1206.499886279591,-1206.499886279591,-1206.499886279591,-1206.499886279591,-1206.499886279591,-1206.499886279591,-1206.499886279591,-1206.499886279591,-1206.499886279591,-1206.499886279591,-1206.499886279591,-1206.499886279591,-1206.499886279591,-1206.499886279591,-1206.499886279591,-1206.499886279591,-1206.499886279591,-1206.499886279591,-1206.4998862795906,-1206.499886279591,-1206.499886279591,1206.6473156434731,-6763.376818971898,null,null,null,null,null,null,null,null,null,null,null,null,null,null,null,null,null,null,null,null,null,null,null,null,null,null],\"type\":\"scatter\",\"xaxis\":\"x3\",\"yaxis\":\"y3\"}],                        {\"template\":{\"data\":{\"histogram2dcontour\":[{\"type\":\"histogram2dcontour\",\"colorbar\":{\"outlinewidth\":0,\"ticks\":\"\"},\"colorscale\":[[0.0,\"#0d0887\"],[0.1111111111111111,\"#46039f\"],[0.2222222222222222,\"#7201a8\"],[0.3333333333333333,\"#9c179e\"],[0.4444444444444444,\"#bd3786\"],[0.5555555555555556,\"#d8576b\"],[0.6666666666666666,\"#ed7953\"],[0.7777777777777778,\"#fb9f3a\"],[0.8888888888888888,\"#fdca26\"],[1.0,\"#f0f921\"]]}],\"choropleth\":[{\"type\":\"choropleth\",\"colorbar\":{\"outlinewidth\":0,\"ticks\":\"\"}}],\"histogram2d\":[{\"type\":\"histogram2d\",\"colorbar\":{\"outlinewidth\":0,\"ticks\":\"\"},\"colorscale\":[[0.0,\"#0d0887\"],[0.1111111111111111,\"#46039f\"],[0.2222222222222222,\"#7201a8\"],[0.3333333333333333,\"#9c179e\"],[0.4444444444444444,\"#bd3786\"],[0.5555555555555556,\"#d8576b\"],[0.6666666666666666,\"#ed7953\"],[0.7777777777777778,\"#fb9f3a\"],[0.8888888888888888,\"#fdca26\"],[1.0,\"#f0f921\"]]}],\"heatmap\":[{\"type\":\"heatmap\",\"colorbar\":{\"outlinewidth\":0,\"ticks\":\"\"},\"colorscale\":[[0.0,\"#0d0887\"],[0.1111111111111111,\"#46039f\"],[0.2222222222222222,\"#7201a8\"],[0.3333333333333333,\"#9c179e\"],[0.4444444444444444,\"#bd3786\"],[0.5555555555555556,\"#d8576b\"],[0.6666666666666666,\"#ed7953\"],[0.7777777777777778,\"#fb9f3a\"],[0.8888888888888888,\"#fdca26\"],[1.0,\"#f0f921\"]]}],\"heatmapgl\":[{\"type\":\"heatmapgl\",\"colorbar\":{\"outlinewidth\":0,\"ticks\":\"\"},\"colorscale\":[[0.0,\"#0d0887\"],[0.1111111111111111,\"#46039f\"],[0.2222222222222222,\"#7201a8\"],[0.3333333333333333,\"#9c179e\"],[0.4444444444444444,\"#bd3786\"],[0.5555555555555556,\"#d8576b\"],[0.6666666666666666,\"#ed7953\"],[0.7777777777777778,\"#fb9f3a\"],[0.8888888888888888,\"#fdca26\"],[1.0,\"#f0f921\"]]}],\"contourcarpet\":[{\"type\":\"contourcarpet\",\"colorbar\":{\"outlinewidth\":0,\"ticks\":\"\"}}],\"contour\":[{\"type\":\"contour\",\"colorbar\":{\"outlinewidth\":0,\"ticks\":\"\"},\"colorscale\":[[0.0,\"#0d0887\"],[0.1111111111111111,\"#46039f\"],[0.2222222222222222,\"#7201a8\"],[0.3333333333333333,\"#9c179e\"],[0.4444444444444444,\"#bd3786\"],[0.5555555555555556,\"#d8576b\"],[0.6666666666666666,\"#ed7953\"],[0.7777777777777778,\"#fb9f3a\"],[0.8888888888888888,\"#fdca26\"],[1.0,\"#f0f921\"]]}],\"surface\":[{\"type\":\"surface\",\"colorbar\":{\"outlinewidth\":0,\"ticks\":\"\"},\"colorscale\":[[0.0,\"#0d0887\"],[0.1111111111111111,\"#46039f\"],[0.2222222222222222,\"#7201a8\"],[0.3333333333333333,\"#9c179e\"],[0.4444444444444444,\"#bd3786\"],[0.5555555555555556,\"#d8576b\"],[0.6666666666666666,\"#ed7953\"],[0.7777777777777778,\"#fb9f3a\"],[0.8888888888888888,\"#fdca26\"],[1.0,\"#f0f921\"]]}],\"mesh3d\":[{\"type\":\"mesh3d\",\"colorbar\":{\"outlinewidth\":0,\"ticks\":\"\"}}],\"scatter\":[{\"fillpattern\":{\"fillmode\":\"overlay\",\"size\":10,\"solidity\":0.2},\"type\":\"scatter\"}],\"parcoords\":[{\"type\":\"parcoords\",\"line\":{\"colorbar\":{\"outlinewidth\":0,\"ticks\":\"\"}}}],\"scatterpolargl\":[{\"type\":\"scatterpolargl\",\"marker\":{\"colorbar\":{\"outlinewidth\":0,\"ticks\":\"\"}}}],\"bar\":[{\"error_x\":{\"color\":\"#2a3f5f\"},\"error_y\":{\"color\":\"#2a3f5f\"},\"marker\":{\"line\":{\"color\":\"#E5ECF6\",\"width\":0.5},\"pattern\":{\"fillmode\":\"overlay\",\"size\":10,\"solidity\":0.2}},\"type\":\"bar\"}],\"scattergeo\":[{\"type\":\"scattergeo\",\"marker\":{\"colorbar\":{\"outlinewidth\":0,\"ticks\":\"\"}}}],\"scatterpolar\":[{\"type\":\"scatterpolar\",\"marker\":{\"colorbar\":{\"outlinewidth\":0,\"ticks\":\"\"}}}],\"histogram\":[{\"marker\":{\"pattern\":{\"fillmode\":\"overlay\",\"size\":10,\"solidity\":0.2}},\"type\":\"histogram\"}],\"scattergl\":[{\"type\":\"scattergl\",\"marker\":{\"colorbar\":{\"outlinewidth\":0,\"ticks\":\"\"}}}],\"scatter3d\":[{\"type\":\"scatter3d\",\"line\":{\"colorbar\":{\"outlinewidth\":0,\"ticks\":\"\"}},\"marker\":{\"colorbar\":{\"outlinewidth\":0,\"ticks\":\"\"}}}],\"scattermapbox\":[{\"type\":\"scattermapbox\",\"marker\":{\"colorbar\":{\"outlinewidth\":0,\"ticks\":\"\"}}}],\"scatterternary\":[{\"type\":\"scatterternary\",\"marker\":{\"colorbar\":{\"outlinewidth\":0,\"ticks\":\"\"}}}],\"scattercarpet\":[{\"type\":\"scattercarpet\",\"marker\":{\"colorbar\":{\"outlinewidth\":0,\"ticks\":\"\"}}}],\"carpet\":[{\"aaxis\":{\"endlinecolor\":\"#2a3f5f\",\"gridcolor\":\"white\",\"linecolor\":\"white\",\"minorgridcolor\":\"white\",\"startlinecolor\":\"#2a3f5f\"},\"baxis\":{\"endlinecolor\":\"#2a3f5f\",\"gridcolor\":\"white\",\"linecolor\":\"white\",\"minorgridcolor\":\"white\",\"startlinecolor\":\"#2a3f5f\"},\"type\":\"carpet\"}],\"table\":[{\"cells\":{\"fill\":{\"color\":\"#EBF0F8\"},\"line\":{\"color\":\"white\"}},\"header\":{\"fill\":{\"color\":\"#C8D4E3\"},\"line\":{\"color\":\"white\"}},\"type\":\"table\"}],\"barpolar\":[{\"marker\":{\"line\":{\"color\":\"#E5ECF6\",\"width\":0.5},\"pattern\":{\"fillmode\":\"overlay\",\"size\":10,\"solidity\":0.2}},\"type\":\"barpolar\"}],\"pie\":[{\"automargin\":true,\"type\":\"pie\"}]},\"layout\":{\"autotypenumbers\":\"strict\",\"colorway\":[\"#636efa\",\"#EF553B\",\"#00cc96\",\"#ab63fa\",\"#FFA15A\",\"#19d3f3\",\"#FF6692\",\"#B6E880\",\"#FF97FF\",\"#FECB52\"],\"font\":{\"color\":\"#2a3f5f\"},\"hovermode\":\"closest\",\"hoverlabel\":{\"align\":\"left\"},\"paper_bgcolor\":\"white\",\"plot_bgcolor\":\"#E5ECF6\",\"polar\":{\"bgcolor\":\"#E5ECF6\",\"angularaxis\":{\"gridcolor\":\"white\",\"linecolor\":\"white\",\"ticks\":\"\"},\"radialaxis\":{\"gridcolor\":\"white\",\"linecolor\":\"white\",\"ticks\":\"\"}},\"ternary\":{\"bgcolor\":\"#E5ECF6\",\"aaxis\":{\"gridcolor\":\"white\",\"linecolor\":\"white\",\"ticks\":\"\"},\"baxis\":{\"gridcolor\":\"white\",\"linecolor\":\"white\",\"ticks\":\"\"},\"caxis\":{\"gridcolor\":\"white\",\"linecolor\":\"white\",\"ticks\":\"\"}},\"coloraxis\":{\"colorbar\":{\"outlinewidth\":0,\"ticks\":\"\"}},\"colorscale\":{\"sequential\":[[0.0,\"#0d0887\"],[0.1111111111111111,\"#46039f\"],[0.2222222222222222,\"#7201a8\"],[0.3333333333333333,\"#9c179e\"],[0.4444444444444444,\"#bd3786\"],[0.5555555555555556,\"#d8576b\"],[0.6666666666666666,\"#ed7953\"],[0.7777777777777778,\"#fb9f3a\"],[0.8888888888888888,\"#fdca26\"],[1.0,\"#f0f921\"]],\"sequentialminus\":[[0.0,\"#0d0887\"],[0.1111111111111111,\"#46039f\"],[0.2222222222222222,\"#7201a8\"],[0.3333333333333333,\"#9c179e\"],[0.4444444444444444,\"#bd3786\"],[0.5555555555555556,\"#d8576b\"],[0.6666666666666666,\"#ed7953\"],[0.7777777777777778,\"#fb9f3a\"],[0.8888888888888888,\"#fdca26\"],[1.0,\"#f0f921\"]],\"diverging\":[[0,\"#8e0152\"],[0.1,\"#c51b7d\"],[0.2,\"#de77ae\"],[0.3,\"#f1b6da\"],[0.4,\"#fde0ef\"],[0.5,\"#f7f7f7\"],[0.6,\"#e6f5d0\"],[0.7,\"#b8e186\"],[0.8,\"#7fbc41\"],[0.9,\"#4d9221\"],[1,\"#276419\"]]},\"xaxis\":{\"gridcolor\":\"white\",\"linecolor\":\"white\",\"ticks\":\"\",\"title\":{\"standoff\":15},\"zerolinecolor\":\"white\",\"automargin\":true,\"zerolinewidth\":2},\"yaxis\":{\"gridcolor\":\"white\",\"linecolor\":\"white\",\"ticks\":\"\",\"title\":{\"standoff\":15},\"zerolinecolor\":\"white\",\"automargin\":true,\"zerolinewidth\":2},\"scene\":{\"xaxis\":{\"backgroundcolor\":\"#E5ECF6\",\"gridcolor\":\"white\",\"linecolor\":\"white\",\"showbackground\":true,\"ticks\":\"\",\"zerolinecolor\":\"white\",\"gridwidth\":2},\"yaxis\":{\"backgroundcolor\":\"#E5ECF6\",\"gridcolor\":\"white\",\"linecolor\":\"white\",\"showbackground\":true,\"ticks\":\"\",\"zerolinecolor\":\"white\",\"gridwidth\":2},\"zaxis\":{\"backgroundcolor\":\"#E5ECF6\",\"gridcolor\":\"white\",\"linecolor\":\"white\",\"showbackground\":true,\"ticks\":\"\",\"zerolinecolor\":\"white\",\"gridwidth\":2}},\"shapedefaults\":{\"line\":{\"color\":\"#2a3f5f\"}},\"annotationdefaults\":{\"arrowcolor\":\"#2a3f5f\",\"arrowhead\":0,\"arrowwidth\":1},\"geo\":{\"bgcolor\":\"white\",\"landcolor\":\"#E5ECF6\",\"subunitcolor\":\"white\",\"showland\":true,\"showlakes\":true,\"lakecolor\":\"white\"},\"title\":{\"x\":0.05},\"mapbox\":{\"style\":\"light\"}}},\"xaxis\":{\"anchor\":\"y\",\"domain\":[0.0,1.0],\"matches\":\"x3\",\"showticklabels\":false,\"title\":{\"text\":\"Date\"}},\"yaxis\":{\"anchor\":\"x\",\"domain\":[0.7777777777777778,1.0],\"title\":{\"text\":\"Value\"}},\"xaxis2\":{\"anchor\":\"y2\",\"domain\":[0.0,1.0],\"matches\":\"x3\",\"showticklabels\":false},\"yaxis2\":{\"anchor\":\"x2\",\"domain\":[0.3888888888888889,0.6111111111111112]},\"xaxis3\":{\"anchor\":\"y3\",\"domain\":[0.0,1.0]},\"yaxis3\":{\"anchor\":\"x3\",\"domain\":[0.0,0.22222222222222224]},\"annotations\":[{\"font\":{\"size\":16},\"showarrow\":false,\"text\":\"Trend\",\"x\":0.5,\"xanchor\":\"center\",\"xref\":\"paper\",\"y\":1.0,\"yanchor\":\"bottom\",\"yref\":\"paper\"},{\"font\":{\"size\":16},\"showarrow\":false,\"text\":\"Seasonal\",\"x\":0.5,\"xanchor\":\"center\",\"xref\":\"paper\",\"y\":0.6111111111111112,\"yanchor\":\"bottom\",\"yref\":\"paper\"},{\"font\":{\"size\":16},\"showarrow\":false,\"text\":\"Residual\",\"x\":0.5,\"xanchor\":\"center\",\"xref\":\"paper\",\"y\":0.22222222222222224,\"yanchor\":\"bottom\",\"yref\":\"paper\"}],\"title\":{\"text\":\"Time Series Decomposition\"},\"showlegend\":true},                        {\"responsive\": true}                    ).then(function(){\n",
              "                            \n",
              "var gd = document.getElementById('f9bb2056-7ddb-4ef2-8b03-49f03d4595b9');\n",
              "var x = new MutationObserver(function (mutations, observer) {{\n",
              "        var display = window.getComputedStyle(gd).display;\n",
              "        if (!display || display === 'none') {{\n",
              "            console.log([gd, 'removed!']);\n",
              "            Plotly.purge(gd);\n",
              "            observer.disconnect();\n",
              "        }}\n",
              "}});\n",
              "\n",
              "// Listen for the removal of the full notebook cells\n",
              "var notebookContainer = gd.closest('#notebook-container');\n",
              "if (notebookContainer) {{\n",
              "    x.observe(notebookContainer, {childList: true});\n",
              "}}\n",
              "\n",
              "// Listen for the clearing of the current output cell\n",
              "var outputEl = gd.closest('.output');\n",
              "if (outputEl) {{\n",
              "    x.observe(outputEl, {childList: true});\n",
              "}}\n",
              "\n",
              "                        })                };                            </script>        </div>\n",
              "</body>\n",
              "</html>"
            ]
          },
          "metadata": {}
        }
      ],
      "source": [
        "decomposition = seasonal_decompose(df['sales'], model='additive')\n",
        "\n",
        "# Create subplots for each component\n",
        "fig = make_subplots(rows=3, cols=1, shared_xaxes=True, subplot_titles=(\"Trend\", \"Seasonal\", \"Residual\"))\n",
        "\n",
        "# Add trend component to the first subplot\n",
        "fig.add_trace(go.Scatter(x=df.index, y=decomposition.trend, mode='lines', name='Trend'), row=1, col=1)\n",
        "\n",
        "# Add seasonal component to the second subplot\n",
        "fig.add_trace(go.Scatter(x=df.index, y=decomposition.seasonal, mode='lines', name='Seasonal'), row=2, col=1)\n",
        "\n",
        "# Add residual component to the third subplot\n",
        "fig.add_trace(go.Scatter(x=df.index, y=decomposition.resid, mode='lines', name='Residual'), row=3, col=1)\n",
        "\n",
        "# Update layout\n",
        "fig.update_layout(\n",
        "    title=\"Time Series Decomposition\",\n",
        "    xaxis_title=\"Date\",\n",
        "    yaxis_title=\"Value\",\n",
        "    showlegend=True,\n",
        ")\n",
        "\n",
        "# Show the plot\n",
        "fig.show()"
      ]
    },
    {
      "cell_type": "markdown",
      "id": "e81565cb",
      "metadata": {
        "id": "e81565cb"
      },
      "source": [
        "# Feature engineering\n",
        "\n",
        "Now, let's begin to tabularize the data."
      ]
    },
    {
      "cell_type": "code",
      "execution_count": 65,
      "id": "e44bbdcd",
      "metadata": {
        "colab": {
          "base_uri": "https://localhost:8080/",
          "height": 1000
        },
        "id": "e44bbdcd",
        "outputId": "358bbff5-9d23-456c-83a0-f41893e28a6b"
      },
      "outputs": [
        {
          "output_type": "display_data",
          "data": {
            "text/html": [
              "<html>\n",
              "<head><meta charset=\"utf-8\" /></head>\n",
              "<body>\n",
              "    <div>            <script src=\"https://cdnjs.cloudflare.com/ajax/libs/mathjax/2.7.5/MathJax.js?config=TeX-AMS-MML_SVG\"></script><script type=\"text/javascript\">if (window.MathJax && window.MathJax.Hub && window.MathJax.Hub.Config) {window.MathJax.Hub.Config({SVG: {font: \"STIX-Web\"}});}</script>                <script type=\"text/javascript\">window.PlotlyConfig = {MathJaxConfig: 'local'};</script>\n",
              "        <script charset=\"utf-8\" src=\"https://cdn.plot.ly/plotly-2.24.1.min.js\"></script>                <div id=\"740efe15-dc05-463a-b89f-d4fce1be3ab6\" class=\"plotly-graph-div\" style=\"height:525px; width:100%;\"></div>            <script type=\"text/javascript\">                                    window.PLOTLYENV=window.PLOTLYENV || {};                                    if (document.getElementById(\"740efe15-dc05-463a-b89f-d4fce1be3ab6\")) {                    Plotly.newPlot(                        \"740efe15-dc05-463a-b89f-d4fce1be3ab6\",                        [{\"mode\":\"lines\",\"name\":\"Sales\",\"x\":[\"2010-01-03T00:00:00\",\"2010-01-10T00:00:00\",\"2010-01-17T00:00:00\",\"2010-01-24T00:00:00\",\"2010-01-31T00:00:00\",\"2010-02-07T00:00:00\",\"2010-02-14T00:00:00\",\"2010-02-21T00:00:00\",\"2010-02-28T00:00:00\",\"2010-03-07T00:00:00\",\"2010-03-14T00:00:00\",\"2010-03-21T00:00:00\",\"2010-03-28T00:00:00\",\"2010-04-04T00:00:00\",\"2010-04-11T00:00:00\",\"2010-04-18T00:00:00\",\"2010-04-25T00:00:00\",\"2010-05-02T00:00:00\",\"2010-05-09T00:00:00\",\"2010-05-16T00:00:00\",\"2010-05-23T00:00:00\",\"2010-05-30T00:00:00\",\"2010-06-06T00:00:00\",\"2010-06-13T00:00:00\",\"2010-06-20T00:00:00\",\"2010-06-27T00:00:00\",\"2010-07-04T00:00:00\",\"2010-07-11T00:00:00\",\"2010-07-18T00:00:00\",\"2010-07-25T00:00:00\",\"2010-08-01T00:00:00\",\"2010-08-08T00:00:00\",\"2010-08-15T00:00:00\",\"2010-08-22T00:00:00\",\"2010-08-29T00:00:00\",\"2010-09-05T00:00:00\",\"2010-09-12T00:00:00\",\"2010-09-19T00:00:00\",\"2010-09-26T00:00:00\",\"2010-10-03T00:00:00\",\"2010-10-10T00:00:00\",\"2010-10-17T00:00:00\",\"2010-10-24T00:00:00\",\"2010-10-31T00:00:00\",\"2010-11-07T00:00:00\",\"2010-11-14T00:00:00\",\"2010-11-21T00:00:00\",\"2010-11-28T00:00:00\",\"2010-12-05T00:00:00\",\"2010-12-12T00:00:00\",\"2010-12-19T00:00:00\",\"2010-12-26T00:00:00\",\"2011-01-02T00:00:00\",\"2011-01-09T00:00:00\",\"2011-01-16T00:00:00\",\"2011-01-23T00:00:00\",\"2011-01-30T00:00:00\",\"2011-02-06T00:00:00\",\"2011-02-13T00:00:00\",\"2011-02-20T00:00:00\",\"2011-02-27T00:00:00\",\"2011-03-06T00:00:00\",\"2011-03-13T00:00:00\",\"2011-03-20T00:00:00\",\"2011-03-27T00:00:00\",\"2011-04-03T00:00:00\",\"2011-04-10T00:00:00\",\"2011-04-17T00:00:00\",\"2011-04-24T00:00:00\",\"2011-05-01T00:00:00\",\"2011-05-08T00:00:00\",\"2011-05-15T00:00:00\",\"2011-05-22T00:00:00\",\"2011-05-29T00:00:00\",\"2011-06-05T00:00:00\",\"2011-06-12T00:00:00\",\"2011-06-19T00:00:00\",\"2011-06-26T00:00:00\",\"2011-07-03T00:00:00\",\"2011-07-10T00:00:00\",\"2011-07-17T00:00:00\",\"2011-07-24T00:00:00\",\"2011-07-31T00:00:00\",\"2011-08-07T00:00:00\",\"2011-08-14T00:00:00\",\"2011-08-21T00:00:00\",\"2011-08-28T00:00:00\",\"2011-09-04T00:00:00\",\"2011-09-11T00:00:00\",\"2011-09-18T00:00:00\",\"2011-09-25T00:00:00\",\"2011-10-02T00:00:00\",\"2011-10-09T00:00:00\",\"2011-10-16T00:00:00\",\"2011-10-23T00:00:00\",\"2011-10-30T00:00:00\",\"2011-11-06T00:00:00\",\"2011-11-13T00:00:00\",\"2011-11-20T00:00:00\",\"2011-11-27T00:00:00\",\"2011-12-04T00:00:00\",\"2011-12-11T00:00:00\"],\"y\":[0.0,112318.85,111460.47,82065.331,110790.591,95340.552,66868.85,115261.842,133606.692,126888.4,98040.0,130498.511,146691.21,110073.57,106629.01,112262.45,117823.11,155148.401,104203.41,138020.81,120034.66,130320.33,79636.37,185933.06,100020.73,91351.12,130757.87,102841.04,128661.84,120441.75,136678.29,111608.96,105085.2,119956.16,124254.86,94258.82,93875.58,125885.601,180679.14,257301.3,217442.93,248979.16,195588.52,163622.79,219731.99,252428.931,207058.471,225995.1,346578.64,331660.73,147026.08,30514.83,0.0,97321.08,109421.12,142150.28,80538.16,89957.44,73519.98,93632.23,99031.27,81516.54,92633.39,113393.11,112232.65,108705.73,92460.66,122567.941,104069.24,67331.93000000001,114728.47,132187.49,163319.98,121076.06,82246.14,169194.05,120797.68,90786.39,91812.15,114199.46,97244.71,134081.78,124542.861,133155.37,97651.84,125420.95,121444.74,89577.65,131164.24,187934.5,249563.051,170904.201,253713.54,161438.54,179106.07,190034.2,226770.53,229378.01,221870.29,210741.76,220213.99,372946.26],\"type\":\"scatter\"},{\"mode\":\"lines\",\"name\":\"Sales Lag 1\",\"x\":[\"2010-01-03T00:00:00\",\"2010-01-10T00:00:00\",\"2010-01-17T00:00:00\",\"2010-01-24T00:00:00\",\"2010-01-31T00:00:00\",\"2010-02-07T00:00:00\",\"2010-02-14T00:00:00\",\"2010-02-21T00:00:00\",\"2010-02-28T00:00:00\",\"2010-03-07T00:00:00\",\"2010-03-14T00:00:00\",\"2010-03-21T00:00:00\",\"2010-03-28T00:00:00\",\"2010-04-04T00:00:00\",\"2010-04-11T00:00:00\",\"2010-04-18T00:00:00\",\"2010-04-25T00:00:00\",\"2010-05-02T00:00:00\",\"2010-05-09T00:00:00\",\"2010-05-16T00:00:00\",\"2010-05-23T00:00:00\",\"2010-05-30T00:00:00\",\"2010-06-06T00:00:00\",\"2010-06-13T00:00:00\",\"2010-06-20T00:00:00\",\"2010-06-27T00:00:00\",\"2010-07-04T00:00:00\",\"2010-07-11T00:00:00\",\"2010-07-18T00:00:00\",\"2010-07-25T00:00:00\",\"2010-08-01T00:00:00\",\"2010-08-08T00:00:00\",\"2010-08-15T00:00:00\",\"2010-08-22T00:00:00\",\"2010-08-29T00:00:00\",\"2010-09-05T00:00:00\",\"2010-09-12T00:00:00\",\"2010-09-19T00:00:00\",\"2010-09-26T00:00:00\",\"2010-10-03T00:00:00\",\"2010-10-10T00:00:00\",\"2010-10-17T00:00:00\",\"2010-10-24T00:00:00\",\"2010-10-31T00:00:00\",\"2010-11-07T00:00:00\",\"2010-11-14T00:00:00\",\"2010-11-21T00:00:00\",\"2010-11-28T00:00:00\",\"2010-12-05T00:00:00\",\"2010-12-12T00:00:00\",\"2010-12-19T00:00:00\",\"2010-12-26T00:00:00\",\"2011-01-02T00:00:00\",\"2011-01-09T00:00:00\",\"2011-01-16T00:00:00\",\"2011-01-23T00:00:00\",\"2011-01-30T00:00:00\",\"2011-02-06T00:00:00\",\"2011-02-13T00:00:00\",\"2011-02-20T00:00:00\",\"2011-02-27T00:00:00\",\"2011-03-06T00:00:00\",\"2011-03-13T00:00:00\",\"2011-03-20T00:00:00\",\"2011-03-27T00:00:00\",\"2011-04-03T00:00:00\",\"2011-04-10T00:00:00\",\"2011-04-17T00:00:00\",\"2011-04-24T00:00:00\",\"2011-05-01T00:00:00\",\"2011-05-08T00:00:00\",\"2011-05-15T00:00:00\",\"2011-05-22T00:00:00\",\"2011-05-29T00:00:00\",\"2011-06-05T00:00:00\",\"2011-06-12T00:00:00\",\"2011-06-19T00:00:00\",\"2011-06-26T00:00:00\",\"2011-07-03T00:00:00\",\"2011-07-10T00:00:00\",\"2011-07-17T00:00:00\",\"2011-07-24T00:00:00\",\"2011-07-31T00:00:00\",\"2011-08-07T00:00:00\",\"2011-08-14T00:00:00\",\"2011-08-21T00:00:00\",\"2011-08-28T00:00:00\",\"2011-09-04T00:00:00\",\"2011-09-11T00:00:00\",\"2011-09-18T00:00:00\",\"2011-09-25T00:00:00\",\"2011-10-02T00:00:00\",\"2011-10-09T00:00:00\",\"2011-10-16T00:00:00\",\"2011-10-23T00:00:00\",\"2011-10-30T00:00:00\",\"2011-11-06T00:00:00\",\"2011-11-13T00:00:00\",\"2011-11-20T00:00:00\",\"2011-11-27T00:00:00\",\"2011-12-04T00:00:00\",\"2011-12-11T00:00:00\"],\"y\":[22007.77,0.0,112318.85,111460.47,82065.331,110790.591,95340.552,66868.85,115261.842,133606.692,126888.4,98040.0,130498.511,146691.21,110073.57,106629.01,112262.45,117823.11,155148.401,104203.41,138020.81,120034.66,130320.33,79636.37,185933.06,100020.73,91351.12,130757.87,102841.04,128661.84,120441.75,136678.29,111608.96,105085.2,119956.16,124254.86,94258.82,93875.58,125885.601,180679.14,257301.3,217442.93,248979.16,195588.52,163622.79,219731.99,252428.931,207058.471,225995.1,346578.64,331660.73,147026.08,30514.83,0.0,97321.08,109421.12,142150.28,80538.16,89957.44,73519.98,93632.23,99031.27,81516.54,92633.39,113393.11,112232.65,108705.73,92460.66,122567.941,104069.24,67331.93000000001,114728.47,132187.49,163319.98,121076.06,82246.14,169194.05,120797.68,90786.39,91812.15,114199.46,97244.71,134081.78,124542.861,133155.37,97651.84,125420.95,121444.74,89577.65,131164.24,187934.5,249563.051,170904.201,253713.54,161438.54,179106.07,190034.2,226770.53,229378.01,221870.29,210741.76,220213.99],\"type\":\"scatter\"},{\"mode\":\"lines\",\"name\":\"Sales Lag 4\",\"x\":[\"2010-01-03T00:00:00\",\"2010-01-10T00:00:00\",\"2010-01-17T00:00:00\",\"2010-01-24T00:00:00\",\"2010-01-31T00:00:00\",\"2010-02-07T00:00:00\",\"2010-02-14T00:00:00\",\"2010-02-21T00:00:00\",\"2010-02-28T00:00:00\",\"2010-03-07T00:00:00\",\"2010-03-14T00:00:00\",\"2010-03-21T00:00:00\",\"2010-03-28T00:00:00\",\"2010-04-04T00:00:00\",\"2010-04-11T00:00:00\",\"2010-04-18T00:00:00\",\"2010-04-25T00:00:00\",\"2010-05-02T00:00:00\",\"2010-05-09T00:00:00\",\"2010-05-16T00:00:00\",\"2010-05-23T00:00:00\",\"2010-05-30T00:00:00\",\"2010-06-06T00:00:00\",\"2010-06-13T00:00:00\",\"2010-06-20T00:00:00\",\"2010-06-27T00:00:00\",\"2010-07-04T00:00:00\",\"2010-07-11T00:00:00\",\"2010-07-18T00:00:00\",\"2010-07-25T00:00:00\",\"2010-08-01T00:00:00\",\"2010-08-08T00:00:00\",\"2010-08-15T00:00:00\",\"2010-08-22T00:00:00\",\"2010-08-29T00:00:00\",\"2010-09-05T00:00:00\",\"2010-09-12T00:00:00\",\"2010-09-19T00:00:00\",\"2010-09-26T00:00:00\",\"2010-10-03T00:00:00\",\"2010-10-10T00:00:00\",\"2010-10-17T00:00:00\",\"2010-10-24T00:00:00\",\"2010-10-31T00:00:00\",\"2010-11-07T00:00:00\",\"2010-11-14T00:00:00\",\"2010-11-21T00:00:00\",\"2010-11-28T00:00:00\",\"2010-12-05T00:00:00\",\"2010-12-12T00:00:00\",\"2010-12-19T00:00:00\",\"2010-12-26T00:00:00\",\"2011-01-02T00:00:00\",\"2011-01-09T00:00:00\",\"2011-01-16T00:00:00\",\"2011-01-23T00:00:00\",\"2011-01-30T00:00:00\",\"2011-02-06T00:00:00\",\"2011-02-13T00:00:00\",\"2011-02-20T00:00:00\",\"2011-02-27T00:00:00\",\"2011-03-06T00:00:00\",\"2011-03-13T00:00:00\",\"2011-03-20T00:00:00\",\"2011-03-27T00:00:00\",\"2011-04-03T00:00:00\",\"2011-04-10T00:00:00\",\"2011-04-17T00:00:00\",\"2011-04-24T00:00:00\",\"2011-05-01T00:00:00\",\"2011-05-08T00:00:00\",\"2011-05-15T00:00:00\",\"2011-05-22T00:00:00\",\"2011-05-29T00:00:00\",\"2011-06-05T00:00:00\",\"2011-06-12T00:00:00\",\"2011-06-19T00:00:00\",\"2011-06-26T00:00:00\",\"2011-07-03T00:00:00\",\"2011-07-10T00:00:00\",\"2011-07-17T00:00:00\",\"2011-07-24T00:00:00\",\"2011-07-31T00:00:00\",\"2011-08-07T00:00:00\",\"2011-08-14T00:00:00\",\"2011-08-21T00:00:00\",\"2011-08-28T00:00:00\",\"2011-09-04T00:00:00\",\"2011-09-11T00:00:00\",\"2011-09-18T00:00:00\",\"2011-09-25T00:00:00\",\"2011-10-02T00:00:00\",\"2011-10-09T00:00:00\",\"2011-10-16T00:00:00\",\"2011-10-23T00:00:00\",\"2011-10-30T00:00:00\",\"2011-11-06T00:00:00\",\"2011-11-13T00:00:00\",\"2011-11-20T00:00:00\",\"2011-11-27T00:00:00\",\"2011-12-04T00:00:00\",\"2011-12-11T00:00:00\"],\"y\":[213000.35,195810.04,182396.74,22007.77,0.0,112318.85,111460.47,82065.331,110790.591,95340.552,66868.85,115261.842,133606.692,126888.4,98040.0,130498.511,146691.21,110073.57,106629.01,112262.45,117823.11,155148.401,104203.41,138020.81,120034.66,130320.33,79636.37,185933.06,100020.73,91351.12,130757.87,102841.04,128661.84,120441.75,136678.29,111608.96,105085.2,119956.16,124254.86,94258.82,93875.58,125885.601,180679.14,257301.3,217442.93,248979.16,195588.52,163622.79,219731.99,252428.931,207058.471,225995.1,346578.64,331660.73,147026.08,30514.83,0.0,97321.08,109421.12,142150.28,80538.16,89957.44,73519.98,93632.23,99031.27,81516.54,92633.39,113393.11,112232.65,108705.73,92460.66,122567.941,104069.24,67331.93000000001,114728.47,132187.49,163319.98,121076.06,82246.14,169194.05,120797.68,90786.39,91812.15,114199.46,97244.71,134081.78,124542.861,133155.37,97651.84,125420.95,121444.74,89577.65,131164.24,187934.5,249563.051,170904.201,253713.54,161438.54,179106.07,190034.2,226770.53,229378.01],\"type\":\"scatter\"},{\"mode\":\"lines\",\"name\":\"Smoothed Sales\",\"x\":[\"2010-01-03T00:00:00\",\"2010-01-10T00:00:00\",\"2010-01-17T00:00:00\",\"2010-01-24T00:00:00\",\"2010-01-31T00:00:00\",\"2010-02-07T00:00:00\",\"2010-02-14T00:00:00\",\"2010-02-21T00:00:00\",\"2010-02-28T00:00:00\",\"2010-03-07T00:00:00\",\"2010-03-14T00:00:00\",\"2010-03-21T00:00:00\",\"2010-03-28T00:00:00\",\"2010-04-04T00:00:00\",\"2010-04-11T00:00:00\",\"2010-04-18T00:00:00\",\"2010-04-25T00:00:00\",\"2010-05-02T00:00:00\",\"2010-05-09T00:00:00\",\"2010-05-16T00:00:00\",\"2010-05-23T00:00:00\",\"2010-05-30T00:00:00\",\"2010-06-06T00:00:00\",\"2010-06-13T00:00:00\",\"2010-06-20T00:00:00\",\"2010-06-27T00:00:00\",\"2010-07-04T00:00:00\",\"2010-07-11T00:00:00\",\"2010-07-18T00:00:00\",\"2010-07-25T00:00:00\",\"2010-08-01T00:00:00\",\"2010-08-08T00:00:00\",\"2010-08-15T00:00:00\",\"2010-08-22T00:00:00\",\"2010-08-29T00:00:00\",\"2010-09-05T00:00:00\",\"2010-09-12T00:00:00\",\"2010-09-19T00:00:00\",\"2010-09-26T00:00:00\",\"2010-10-03T00:00:00\",\"2010-10-10T00:00:00\",\"2010-10-17T00:00:00\",\"2010-10-24T00:00:00\",\"2010-10-31T00:00:00\",\"2010-11-07T00:00:00\",\"2010-11-14T00:00:00\",\"2010-11-21T00:00:00\",\"2010-11-28T00:00:00\",\"2010-12-05T00:00:00\",\"2010-12-12T00:00:00\",\"2010-12-19T00:00:00\",\"2010-12-26T00:00:00\",\"2011-01-02T00:00:00\",\"2011-01-09T00:00:00\",\"2011-01-16T00:00:00\",\"2011-01-23T00:00:00\",\"2011-01-30T00:00:00\",\"2011-02-06T00:00:00\",\"2011-02-13T00:00:00\",\"2011-02-20T00:00:00\",\"2011-02-27T00:00:00\",\"2011-03-06T00:00:00\",\"2011-03-13T00:00:00\",\"2011-03-20T00:00:00\",\"2011-03-27T00:00:00\",\"2011-04-03T00:00:00\",\"2011-04-10T00:00:00\",\"2011-04-17T00:00:00\",\"2011-04-24T00:00:00\",\"2011-05-01T00:00:00\",\"2011-05-08T00:00:00\",\"2011-05-15T00:00:00\",\"2011-05-22T00:00:00\",\"2011-05-29T00:00:00\",\"2011-06-05T00:00:00\",\"2011-06-12T00:00:00\",\"2011-06-19T00:00:00\",\"2011-06-26T00:00:00\",\"2011-07-03T00:00:00\",\"2011-07-10T00:00:00\",\"2011-07-17T00:00:00\",\"2011-07-24T00:00:00\",\"2011-07-31T00:00:00\",\"2011-08-07T00:00:00\",\"2011-08-14T00:00:00\",\"2011-08-21T00:00:00\",\"2011-08-28T00:00:00\",\"2011-09-04T00:00:00\",\"2011-09-11T00:00:00\",\"2011-09-18T00:00:00\",\"2011-09-25T00:00:00\",\"2011-10-02T00:00:00\",\"2011-10-09T00:00:00\",\"2011-10-16T00:00:00\",\"2011-10-23T00:00:00\",\"2011-10-30T00:00:00\",\"2011-11-06T00:00:00\",\"2011-11-13T00:00:00\",\"2011-11-20T00:00:00\",\"2011-11-27T00:00:00\",\"2011-12-04T00:00:00\",\"2011-12-11T00:00:00\"],\"y\":[95740.06825321277,100233.83986902595,103075.0004559369,98025.98179875358,100974.6698497943,99712.30039134806,92526.34111109715,97408.97321194218,105069.66812631354,109634.16311358819,107230.7685627164,112019.09649962558,119113.26568827292,117272.16014160261,115112.40475795079,114535.76560961548,115199.35501970132,123248.55684216773,119416.90941953065,123155.34379280731,122528.84017047986,124091.86208024222,115179.21420391614,129357.40797838003,123480.97904938,117047.04241173003,119791.92633074925,116399.06095970933,118853.17224558975,119171.04897912462,122673.91811583207,120460.20810269397,117384.40795878395,117898.8652156191,119170.2754217503,114187.32198927981,110124.54156250512,113277.02163334913,126758.36279921554,152868.37180347872,165783.84599102318,182423.48859974043,185056.56827934113,180769.71702349535,188562.31064331208,201335.81702422473,202480.3608877605,207183.35166913795,235062.6130632412,254382.34939389807,232910.99509777618,192431.61062686302,153945.17330560455,142620.3275268654,135980.4733020586,137214.43653269004,125879.16732915245,118694.81481692952,109659.84076436219,106454.31659934962,104969.70653395582,100279.07134277462,98749.9345827741,101678.5704192011,103789.38676953063,104772.65557742184,102310.25613778633,106361.79353690574,105903.28279089513,98189.01171277526,101496.90354858137,107635.02110363841,118772.0132672342,119232.82262650892,111835.48593783261,123307.1989529537,122805.29515526864,116401.51405180209,111483.64119695335,112026.80496149356,109070.38595207834,114072.66478483165,116166.70403562447,119564.43723857141,115181.91778046433,117229.72422825643,118072.72738388457,112373.71190018811,116131.81752380087,130492.35403019979,154306.49343896398,157626.03495282205,176843.53596990352,173762.5367749422,174831.2434202259,177871.83473680008,187651.5737910338,195996.86103391502,201171.54682767173,203085.5894622971,206511.26957006633,239798.26765783053],\"type\":\"scatter\"},{\"mode\":\"lines\",\"name\":\"Rolling Mean\",\"x\":[\"2010-01-03T00:00:00\",\"2010-01-10T00:00:00\",\"2010-01-17T00:00:00\",\"2010-01-24T00:00:00\",\"2010-01-31T00:00:00\",\"2010-02-07T00:00:00\",\"2010-02-14T00:00:00\",\"2010-02-21T00:00:00\",\"2010-02-28T00:00:00\",\"2010-03-07T00:00:00\",\"2010-03-14T00:00:00\",\"2010-03-21T00:00:00\",\"2010-03-28T00:00:00\",\"2010-04-04T00:00:00\",\"2010-04-11T00:00:00\",\"2010-04-18T00:00:00\",\"2010-04-25T00:00:00\",\"2010-05-02T00:00:00\",\"2010-05-09T00:00:00\",\"2010-05-16T00:00:00\",\"2010-05-23T00:00:00\",\"2010-05-30T00:00:00\",\"2010-06-06T00:00:00\",\"2010-06-13T00:00:00\",\"2010-06-20T00:00:00\",\"2010-06-27T00:00:00\",\"2010-07-04T00:00:00\",\"2010-07-11T00:00:00\",\"2010-07-18T00:00:00\",\"2010-07-25T00:00:00\",\"2010-08-01T00:00:00\",\"2010-08-08T00:00:00\",\"2010-08-15T00:00:00\",\"2010-08-22T00:00:00\",\"2010-08-29T00:00:00\",\"2010-09-05T00:00:00\",\"2010-09-12T00:00:00\",\"2010-09-19T00:00:00\",\"2010-09-26T00:00:00\",\"2010-10-03T00:00:00\",\"2010-10-10T00:00:00\",\"2010-10-17T00:00:00\",\"2010-10-24T00:00:00\",\"2010-10-31T00:00:00\",\"2010-11-07T00:00:00\",\"2010-11-14T00:00:00\",\"2010-11-21T00:00:00\",\"2010-11-28T00:00:00\",\"2010-12-05T00:00:00\",\"2010-12-12T00:00:00\",\"2010-12-19T00:00:00\",\"2010-12-26T00:00:00\",\"2011-01-02T00:00:00\",\"2011-01-09T00:00:00\",\"2011-01-16T00:00:00\",\"2011-01-23T00:00:00\",\"2011-01-30T00:00:00\",\"2011-02-06T00:00:00\",\"2011-02-13T00:00:00\",\"2011-02-20T00:00:00\",\"2011-02-27T00:00:00\",\"2011-03-06T00:00:00\",\"2011-03-13T00:00:00\",\"2011-03-20T00:00:00\",\"2011-03-27T00:00:00\",\"2011-04-03T00:00:00\",\"2011-04-10T00:00:00\",\"2011-04-17T00:00:00\",\"2011-04-24T00:00:00\",\"2011-05-01T00:00:00\",\"2011-05-08T00:00:00\",\"2011-05-15T00:00:00\",\"2011-05-22T00:00:00\",\"2011-05-29T00:00:00\",\"2011-06-05T00:00:00\",\"2011-06-12T00:00:00\",\"2011-06-19T00:00:00\",\"2011-06-26T00:00:00\",\"2011-07-03T00:00:00\",\"2011-07-10T00:00:00\",\"2011-07-17T00:00:00\",\"2011-07-24T00:00:00\",\"2011-07-31T00:00:00\",\"2011-08-07T00:00:00\",\"2011-08-14T00:00:00\",\"2011-08-21T00:00:00\",\"2011-08-28T00:00:00\",\"2011-09-04T00:00:00\",\"2011-09-11T00:00:00\",\"2011-09-18T00:00:00\",\"2011-09-25T00:00:00\",\"2011-10-02T00:00:00\",\"2011-10-09T00:00:00\",\"2011-10-16T00:00:00\",\"2011-10-23T00:00:00\",\"2011-10-30T00:00:00\",\"2011-11-06T00:00:00\",\"2011-11-13T00:00:00\",\"2011-11-20T00:00:00\",\"2011-11-27T00:00:00\",\"2011-12-04T00:00:00\",\"2011-12-11T00:00:00\"],\"y\":[68134.83666666666,44775.54,74593.10666666667,101948.217,101438.79733333334,96065.49133333332,90999.99766666668,92490.41466666666,105245.79466666667,125252.31133333333,119511.69733333332,118475.63699999999,125076.57366666668,129087.76366666665,121131.26333333332,109655.01000000001,112238.19,128411.32033333334,125724.9736666667,132457.54033333334,120752.96,129458.59999999999,109997.12,131963.25333333333,121863.38666666666,125768.30333333333,107376.57333333332,108316.67666666665,120753.58333333333,117314.87666666666,128593.96,122909.66666666667,117790.81666666665,112216.77333333332,116432.07333333332,112823.27999999998,104129.75333333334,104673.33366666666,133480.107,187955.34699999998,218474.45666666664,241241.12999999998,220670.20333333334,202730.15666666665,192981.09999999998,211927.90366666662,226406.464,228494.16733333332,259877.40366666668,301411.49,275088.48333333334,169733.87999999998,59180.30333333332,42611.97,68914.06666666667,116297.49333333333,110703.18666666665,104215.29333333333,81338.52666666667,85703.21666666666,88727.82666666666,91393.34666666668,91060.40000000001,95847.68,106086.38333333335,111443.83,104466.34666666666,107911.44366666667,106365.947,97989.70366666668,95376.54666666668,104749.29666666668,136745.31333333332,138861.17666666667,122214.06000000001,124172.08333333333,124079.29,126926.04,101132.07333333332,98932.66666666667,101085.44,115175.31666666667,118623.11700000001,130593.33699999998,118450.02366666666,118742.71999999999,114839.17666666668,112147.77999999998,114062.21,136225.46333333335,189553.93033333332,202800.584,224726.93066666668,195352.09366666665,198086.05000000002,176859.60333333336,198636.93333333335,215394.24666666667,226006.2766666667,220663.35333333336,217608.68000000002,267967.33666666667],\"type\":\"scatter\"}],                        {\"template\":{\"data\":{\"histogram2dcontour\":[{\"type\":\"histogram2dcontour\",\"colorbar\":{\"outlinewidth\":0,\"ticks\":\"\"},\"colorscale\":[[0.0,\"#0d0887\"],[0.1111111111111111,\"#46039f\"],[0.2222222222222222,\"#7201a8\"],[0.3333333333333333,\"#9c179e\"],[0.4444444444444444,\"#bd3786\"],[0.5555555555555556,\"#d8576b\"],[0.6666666666666666,\"#ed7953\"],[0.7777777777777778,\"#fb9f3a\"],[0.8888888888888888,\"#fdca26\"],[1.0,\"#f0f921\"]]}],\"choropleth\":[{\"type\":\"choropleth\",\"colorbar\":{\"outlinewidth\":0,\"ticks\":\"\"}}],\"histogram2d\":[{\"type\":\"histogram2d\",\"colorbar\":{\"outlinewidth\":0,\"ticks\":\"\"},\"colorscale\":[[0.0,\"#0d0887\"],[0.1111111111111111,\"#46039f\"],[0.2222222222222222,\"#7201a8\"],[0.3333333333333333,\"#9c179e\"],[0.4444444444444444,\"#bd3786\"],[0.5555555555555556,\"#d8576b\"],[0.6666666666666666,\"#ed7953\"],[0.7777777777777778,\"#fb9f3a\"],[0.8888888888888888,\"#fdca26\"],[1.0,\"#f0f921\"]]}],\"heatmap\":[{\"type\":\"heatmap\",\"colorbar\":{\"outlinewidth\":0,\"ticks\":\"\"},\"colorscale\":[[0.0,\"#0d0887\"],[0.1111111111111111,\"#46039f\"],[0.2222222222222222,\"#7201a8\"],[0.3333333333333333,\"#9c179e\"],[0.4444444444444444,\"#bd3786\"],[0.5555555555555556,\"#d8576b\"],[0.6666666666666666,\"#ed7953\"],[0.7777777777777778,\"#fb9f3a\"],[0.8888888888888888,\"#fdca26\"],[1.0,\"#f0f921\"]]}],\"heatmapgl\":[{\"type\":\"heatmapgl\",\"colorbar\":{\"outlinewidth\":0,\"ticks\":\"\"},\"colorscale\":[[0.0,\"#0d0887\"],[0.1111111111111111,\"#46039f\"],[0.2222222222222222,\"#7201a8\"],[0.3333333333333333,\"#9c179e\"],[0.4444444444444444,\"#bd3786\"],[0.5555555555555556,\"#d8576b\"],[0.6666666666666666,\"#ed7953\"],[0.7777777777777778,\"#fb9f3a\"],[0.8888888888888888,\"#fdca26\"],[1.0,\"#f0f921\"]]}],\"contourcarpet\":[{\"type\":\"contourcarpet\",\"colorbar\":{\"outlinewidth\":0,\"ticks\":\"\"}}],\"contour\":[{\"type\":\"contour\",\"colorbar\":{\"outlinewidth\":0,\"ticks\":\"\"},\"colorscale\":[[0.0,\"#0d0887\"],[0.1111111111111111,\"#46039f\"],[0.2222222222222222,\"#7201a8\"],[0.3333333333333333,\"#9c179e\"],[0.4444444444444444,\"#bd3786\"],[0.5555555555555556,\"#d8576b\"],[0.6666666666666666,\"#ed7953\"],[0.7777777777777778,\"#fb9f3a\"],[0.8888888888888888,\"#fdca26\"],[1.0,\"#f0f921\"]]}],\"surface\":[{\"type\":\"surface\",\"colorbar\":{\"outlinewidth\":0,\"ticks\":\"\"},\"colorscale\":[[0.0,\"#0d0887\"],[0.1111111111111111,\"#46039f\"],[0.2222222222222222,\"#7201a8\"],[0.3333333333333333,\"#9c179e\"],[0.4444444444444444,\"#bd3786\"],[0.5555555555555556,\"#d8576b\"],[0.6666666666666666,\"#ed7953\"],[0.7777777777777778,\"#fb9f3a\"],[0.8888888888888888,\"#fdca26\"],[1.0,\"#f0f921\"]]}],\"mesh3d\":[{\"type\":\"mesh3d\",\"colorbar\":{\"outlinewidth\":0,\"ticks\":\"\"}}],\"scatter\":[{\"fillpattern\":{\"fillmode\":\"overlay\",\"size\":10,\"solidity\":0.2},\"type\":\"scatter\"}],\"parcoords\":[{\"type\":\"parcoords\",\"line\":{\"colorbar\":{\"outlinewidth\":0,\"ticks\":\"\"}}}],\"scatterpolargl\":[{\"type\":\"scatterpolargl\",\"marker\":{\"colorbar\":{\"outlinewidth\":0,\"ticks\":\"\"}}}],\"bar\":[{\"error_x\":{\"color\":\"#2a3f5f\"},\"error_y\":{\"color\":\"#2a3f5f\"},\"marker\":{\"line\":{\"color\":\"#E5ECF6\",\"width\":0.5},\"pattern\":{\"fillmode\":\"overlay\",\"size\":10,\"solidity\":0.2}},\"type\":\"bar\"}],\"scattergeo\":[{\"type\":\"scattergeo\",\"marker\":{\"colorbar\":{\"outlinewidth\":0,\"ticks\":\"\"}}}],\"scatterpolar\":[{\"type\":\"scatterpolar\",\"marker\":{\"colorbar\":{\"outlinewidth\":0,\"ticks\":\"\"}}}],\"histogram\":[{\"marker\":{\"pattern\":{\"fillmode\":\"overlay\",\"size\":10,\"solidity\":0.2}},\"type\":\"histogram\"}],\"scattergl\":[{\"type\":\"scattergl\",\"marker\":{\"colorbar\":{\"outlinewidth\":0,\"ticks\":\"\"}}}],\"scatter3d\":[{\"type\":\"scatter3d\",\"line\":{\"colorbar\":{\"outlinewidth\":0,\"ticks\":\"\"}},\"marker\":{\"colorbar\":{\"outlinewidth\":0,\"ticks\":\"\"}}}],\"scattermapbox\":[{\"type\":\"scattermapbox\",\"marker\":{\"colorbar\":{\"outlinewidth\":0,\"ticks\":\"\"}}}],\"scatterternary\":[{\"type\":\"scatterternary\",\"marker\":{\"colorbar\":{\"outlinewidth\":0,\"ticks\":\"\"}}}],\"scattercarpet\":[{\"type\":\"scattercarpet\",\"marker\":{\"colorbar\":{\"outlinewidth\":0,\"ticks\":\"\"}}}],\"carpet\":[{\"aaxis\":{\"endlinecolor\":\"#2a3f5f\",\"gridcolor\":\"white\",\"linecolor\":\"white\",\"minorgridcolor\":\"white\",\"startlinecolor\":\"#2a3f5f\"},\"baxis\":{\"endlinecolor\":\"#2a3f5f\",\"gridcolor\":\"white\",\"linecolor\":\"white\",\"minorgridcolor\":\"white\",\"startlinecolor\":\"#2a3f5f\"},\"type\":\"carpet\"}],\"table\":[{\"cells\":{\"fill\":{\"color\":\"#EBF0F8\"},\"line\":{\"color\":\"white\"}},\"header\":{\"fill\":{\"color\":\"#C8D4E3\"},\"line\":{\"color\":\"white\"}},\"type\":\"table\"}],\"barpolar\":[{\"marker\":{\"line\":{\"color\":\"#E5ECF6\",\"width\":0.5},\"pattern\":{\"fillmode\":\"overlay\",\"size\":10,\"solidity\":0.2}},\"type\":\"barpolar\"}],\"pie\":[{\"automargin\":true,\"type\":\"pie\"}]},\"layout\":{\"autotypenumbers\":\"strict\",\"colorway\":[\"#636efa\",\"#EF553B\",\"#00cc96\",\"#ab63fa\",\"#FFA15A\",\"#19d3f3\",\"#FF6692\",\"#B6E880\",\"#FF97FF\",\"#FECB52\"],\"font\":{\"color\":\"#2a3f5f\"},\"hovermode\":\"closest\",\"hoverlabel\":{\"align\":\"left\"},\"paper_bgcolor\":\"white\",\"plot_bgcolor\":\"#E5ECF6\",\"polar\":{\"bgcolor\":\"#E5ECF6\",\"angularaxis\":{\"gridcolor\":\"white\",\"linecolor\":\"white\",\"ticks\":\"\"},\"radialaxis\":{\"gridcolor\":\"white\",\"linecolor\":\"white\",\"ticks\":\"\"}},\"ternary\":{\"bgcolor\":\"#E5ECF6\",\"aaxis\":{\"gridcolor\":\"white\",\"linecolor\":\"white\",\"ticks\":\"\"},\"baxis\":{\"gridcolor\":\"white\",\"linecolor\":\"white\",\"ticks\":\"\"},\"caxis\":{\"gridcolor\":\"white\",\"linecolor\":\"white\",\"ticks\":\"\"}},\"coloraxis\":{\"colorbar\":{\"outlinewidth\":0,\"ticks\":\"\"}},\"colorscale\":{\"sequential\":[[0.0,\"#0d0887\"],[0.1111111111111111,\"#46039f\"],[0.2222222222222222,\"#7201a8\"],[0.3333333333333333,\"#9c179e\"],[0.4444444444444444,\"#bd3786\"],[0.5555555555555556,\"#d8576b\"],[0.6666666666666666,\"#ed7953\"],[0.7777777777777778,\"#fb9f3a\"],[0.8888888888888888,\"#fdca26\"],[1.0,\"#f0f921\"]],\"sequentialminus\":[[0.0,\"#0d0887\"],[0.1111111111111111,\"#46039f\"],[0.2222222222222222,\"#7201a8\"],[0.3333333333333333,\"#9c179e\"],[0.4444444444444444,\"#bd3786\"],[0.5555555555555556,\"#d8576b\"],[0.6666666666666666,\"#ed7953\"],[0.7777777777777778,\"#fb9f3a\"],[0.8888888888888888,\"#fdca26\"],[1.0,\"#f0f921\"]],\"diverging\":[[0,\"#8e0152\"],[0.1,\"#c51b7d\"],[0.2,\"#de77ae\"],[0.3,\"#f1b6da\"],[0.4,\"#fde0ef\"],[0.5,\"#f7f7f7\"],[0.6,\"#e6f5d0\"],[0.7,\"#b8e186\"],[0.8,\"#7fbc41\"],[0.9,\"#4d9221\"],[1,\"#276419\"]]},\"xaxis\":{\"gridcolor\":\"white\",\"linecolor\":\"white\",\"ticks\":\"\",\"title\":{\"standoff\":15},\"zerolinecolor\":\"white\",\"automargin\":true,\"zerolinewidth\":2},\"yaxis\":{\"gridcolor\":\"white\",\"linecolor\":\"white\",\"ticks\":\"\",\"title\":{\"standoff\":15},\"zerolinecolor\":\"white\",\"automargin\":true,\"zerolinewidth\":2},\"scene\":{\"xaxis\":{\"backgroundcolor\":\"#E5ECF6\",\"gridcolor\":\"white\",\"linecolor\":\"white\",\"showbackground\":true,\"ticks\":\"\",\"zerolinecolor\":\"white\",\"gridwidth\":2},\"yaxis\":{\"backgroundcolor\":\"#E5ECF6\",\"gridcolor\":\"white\",\"linecolor\":\"white\",\"showbackground\":true,\"ticks\":\"\",\"zerolinecolor\":\"white\",\"gridwidth\":2},\"zaxis\":{\"backgroundcolor\":\"#E5ECF6\",\"gridcolor\":\"white\",\"linecolor\":\"white\",\"showbackground\":true,\"ticks\":\"\",\"zerolinecolor\":\"white\",\"gridwidth\":2}},\"shapedefaults\":{\"line\":{\"color\":\"#2a3f5f\"}},\"annotationdefaults\":{\"arrowcolor\":\"#2a3f5f\",\"arrowhead\":0,\"arrowwidth\":1},\"geo\":{\"bgcolor\":\"white\",\"landcolor\":\"#E5ECF6\",\"subunitcolor\":\"white\",\"showland\":true,\"showlakes\":true,\"lakecolor\":\"white\"},\"title\":{\"x\":0.05},\"mapbox\":{\"style\":\"light\"}}},\"xaxis\":{\"anchor\":\"y\",\"domain\":[0.0,1.0],\"title\":{\"text\":\"Date\"}},\"yaxis\":{\"anchor\":\"x\",\"domain\":[0.0,1.0],\"title\":{\"text\":\"Value\"}},\"title\":{\"text\":\"Different Perspectives of Sales\"},\"showlegend\":true},                        {\"responsive\": true}                    ).then(function(){\n",
              "                            \n",
              "var gd = document.getElementById('740efe15-dc05-463a-b89f-d4fce1be3ab6');\n",
              "var x = new MutationObserver(function (mutations, observer) {{\n",
              "        var display = window.getComputedStyle(gd).display;\n",
              "        if (!display || display === 'none') {{\n",
              "            console.log([gd, 'removed!']);\n",
              "            Plotly.purge(gd);\n",
              "            observer.disconnect();\n",
              "        }}\n",
              "}});\n",
              "\n",
              "// Listen for the removal of the full notebook cells\n",
              "var notebookContainer = gd.closest('#notebook-container');\n",
              "if (notebookContainer) {{\n",
              "    x.observe(notebookContainer, {childList: true});\n",
              "}}\n",
              "\n",
              "// Listen for the clearing of the current output cell\n",
              "var outputEl = gd.closest('.output');\n",
              "if (outputEl) {{\n",
              "    x.observe(outputEl, {childList: true});\n",
              "}}\n",
              "\n",
              "                        })                };                            </script>        </div>\n",
              "</body>\n",
              "</html>"
            ]
          },
          "metadata": {}
        },
        {
          "output_type": "stream",
          "name": "stdout",
          "text": [
            "NaN values: month             0\n",
            "wom               0\n",
            "sales             0\n",
            "sales_lag_1       0\n",
            "sales_lag_4       0\n",
            "month_sin         0\n",
            "month_cos         0\n",
            "wom_sin           0\n",
            "wom_cos           0\n",
            "smoothed_sales    0\n",
            "rolling_mean      0\n",
            "dtype: int64\n"
          ]
        },
        {
          "output_type": "execute_result",
          "data": {
            "text/plain": [
              "            month  wom  sales_lag_1  sales_lag_4  month_sin  month_cos  \\\n",
              "week                                                                     \n",
              "2010-01-03      1    1    22007.770    213000.35        0.5   0.866025   \n",
              "2010-01-10      1    2        0.000    195810.04        0.5   0.866025   \n",
              "2010-01-17      1    3   112318.850    182396.74        0.5   0.866025   \n",
              "2010-01-24      1    4   111460.470     22007.77        0.5   0.866025   \n",
              "2010-01-31      1    5    82065.331         0.00        0.5   0.866025   \n",
              "\n",
              "                 wom_sin   wom_cos  smoothed_sales   rolling_mean       sales  \n",
              "week                                                                           \n",
              "2010-01-03  9.510565e-01  0.309017    95740.068253   68134.836667       0.000  \n",
              "2010-01-10  5.877853e-01 -0.809017   100233.839869   44775.540000  112318.850  \n",
              "2010-01-17 -5.877853e-01 -0.809017   103075.000456   74593.106667  111460.470  \n",
              "2010-01-24 -9.510565e-01  0.309017    98025.981799  101948.217000   82065.331  \n",
              "2010-01-31 -2.449294e-16  1.000000   100974.669850  101438.797333  110790.591  "
            ],
            "text/html": [
              "\n",
              "  <div id=\"df-3a5b8c21-d6a4-4953-b67b-cc4398ae1305\" class=\"colab-df-container\">\n",
              "    <div>\n",
              "<style scoped>\n",
              "    .dataframe tbody tr th:only-of-type {\n",
              "        vertical-align: middle;\n",
              "    }\n",
              "\n",
              "    .dataframe tbody tr th {\n",
              "        vertical-align: top;\n",
              "    }\n",
              "\n",
              "    .dataframe thead th {\n",
              "        text-align: right;\n",
              "    }\n",
              "</style>\n",
              "<table border=\"1\" class=\"dataframe\">\n",
              "  <thead>\n",
              "    <tr style=\"text-align: right;\">\n",
              "      <th></th>\n",
              "      <th>month</th>\n",
              "      <th>wom</th>\n",
              "      <th>sales_lag_1</th>\n",
              "      <th>sales_lag_4</th>\n",
              "      <th>month_sin</th>\n",
              "      <th>month_cos</th>\n",
              "      <th>wom_sin</th>\n",
              "      <th>wom_cos</th>\n",
              "      <th>smoothed_sales</th>\n",
              "      <th>rolling_mean</th>\n",
              "      <th>sales</th>\n",
              "    </tr>\n",
              "    <tr>\n",
              "      <th>week</th>\n",
              "      <th></th>\n",
              "      <th></th>\n",
              "      <th></th>\n",
              "      <th></th>\n",
              "      <th></th>\n",
              "      <th></th>\n",
              "      <th></th>\n",
              "      <th></th>\n",
              "      <th></th>\n",
              "      <th></th>\n",
              "      <th></th>\n",
              "    </tr>\n",
              "  </thead>\n",
              "  <tbody>\n",
              "    <tr>\n",
              "      <th>2010-01-03</th>\n",
              "      <td>1</td>\n",
              "      <td>1</td>\n",
              "      <td>22007.770</td>\n",
              "      <td>213000.35</td>\n",
              "      <td>0.5</td>\n",
              "      <td>0.866025</td>\n",
              "      <td>9.510565e-01</td>\n",
              "      <td>0.309017</td>\n",
              "      <td>95740.068253</td>\n",
              "      <td>68134.836667</td>\n",
              "      <td>0.000</td>\n",
              "    </tr>\n",
              "    <tr>\n",
              "      <th>2010-01-10</th>\n",
              "      <td>1</td>\n",
              "      <td>2</td>\n",
              "      <td>0.000</td>\n",
              "      <td>195810.04</td>\n",
              "      <td>0.5</td>\n",
              "      <td>0.866025</td>\n",
              "      <td>5.877853e-01</td>\n",
              "      <td>-0.809017</td>\n",
              "      <td>100233.839869</td>\n",
              "      <td>44775.540000</td>\n",
              "      <td>112318.850</td>\n",
              "    </tr>\n",
              "    <tr>\n",
              "      <th>2010-01-17</th>\n",
              "      <td>1</td>\n",
              "      <td>3</td>\n",
              "      <td>112318.850</td>\n",
              "      <td>182396.74</td>\n",
              "      <td>0.5</td>\n",
              "      <td>0.866025</td>\n",
              "      <td>-5.877853e-01</td>\n",
              "      <td>-0.809017</td>\n",
              "      <td>103075.000456</td>\n",
              "      <td>74593.106667</td>\n",
              "      <td>111460.470</td>\n",
              "    </tr>\n",
              "    <tr>\n",
              "      <th>2010-01-24</th>\n",
              "      <td>1</td>\n",
              "      <td>4</td>\n",
              "      <td>111460.470</td>\n",
              "      <td>22007.77</td>\n",
              "      <td>0.5</td>\n",
              "      <td>0.866025</td>\n",
              "      <td>-9.510565e-01</td>\n",
              "      <td>0.309017</td>\n",
              "      <td>98025.981799</td>\n",
              "      <td>101948.217000</td>\n",
              "      <td>82065.331</td>\n",
              "    </tr>\n",
              "    <tr>\n",
              "      <th>2010-01-31</th>\n",
              "      <td>1</td>\n",
              "      <td>5</td>\n",
              "      <td>82065.331</td>\n",
              "      <td>0.00</td>\n",
              "      <td>0.5</td>\n",
              "      <td>0.866025</td>\n",
              "      <td>-2.449294e-16</td>\n",
              "      <td>1.000000</td>\n",
              "      <td>100974.669850</td>\n",
              "      <td>101438.797333</td>\n",
              "      <td>110790.591</td>\n",
              "    </tr>\n",
              "  </tbody>\n",
              "</table>\n",
              "</div>\n",
              "    <div class=\"colab-df-buttons\">\n",
              "\n",
              "  <div class=\"colab-df-container\">\n",
              "    <button class=\"colab-df-convert\" onclick=\"convertToInteractive('df-3a5b8c21-d6a4-4953-b67b-cc4398ae1305')\"\n",
              "            title=\"Convert this dataframe to an interactive table.\"\n",
              "            style=\"display:none;\">\n",
              "\n",
              "  <svg xmlns=\"http://www.w3.org/2000/svg\" height=\"24px\" viewBox=\"0 -960 960 960\">\n",
              "    <path d=\"M120-120v-720h720v720H120Zm60-500h600v-160H180v160Zm220 220h160v-160H400v160Zm0 220h160v-160H400v160ZM180-400h160v-160H180v160Zm440 0h160v-160H620v160ZM180-180h160v-160H180v160Zm440 0h160v-160H620v160Z\"/>\n",
              "  </svg>\n",
              "    </button>\n",
              "\n",
              "  <style>\n",
              "    .colab-df-container {\n",
              "      display:flex;\n",
              "      gap: 12px;\n",
              "    }\n",
              "\n",
              "    .colab-df-convert {\n",
              "      background-color: #E8F0FE;\n",
              "      border: none;\n",
              "      border-radius: 50%;\n",
              "      cursor: pointer;\n",
              "      display: none;\n",
              "      fill: #1967D2;\n",
              "      height: 32px;\n",
              "      padding: 0 0 0 0;\n",
              "      width: 32px;\n",
              "    }\n",
              "\n",
              "    .colab-df-convert:hover {\n",
              "      background-color: #E2EBFA;\n",
              "      box-shadow: 0px 1px 2px rgba(60, 64, 67, 0.3), 0px 1px 3px 1px rgba(60, 64, 67, 0.15);\n",
              "      fill: #174EA6;\n",
              "    }\n",
              "\n",
              "    .colab-df-buttons div {\n",
              "      margin-bottom: 4px;\n",
              "    }\n",
              "\n",
              "    [theme=dark] .colab-df-convert {\n",
              "      background-color: #3B4455;\n",
              "      fill: #D2E3FC;\n",
              "    }\n",
              "\n",
              "    [theme=dark] .colab-df-convert:hover {\n",
              "      background-color: #434B5C;\n",
              "      box-shadow: 0px 1px 3px 1px rgba(0, 0, 0, 0.15);\n",
              "      filter: drop-shadow(0px 1px 2px rgba(0, 0, 0, 0.3));\n",
              "      fill: #FFFFFF;\n",
              "    }\n",
              "  </style>\n",
              "\n",
              "    <script>\n",
              "      const buttonEl =\n",
              "        document.querySelector('#df-3a5b8c21-d6a4-4953-b67b-cc4398ae1305 button.colab-df-convert');\n",
              "      buttonEl.style.display =\n",
              "        google.colab.kernel.accessAllowed ? 'block' : 'none';\n",
              "\n",
              "      async function convertToInteractive(key) {\n",
              "        const element = document.querySelector('#df-3a5b8c21-d6a4-4953-b67b-cc4398ae1305');\n",
              "        const dataTable =\n",
              "          await google.colab.kernel.invokeFunction('convertToInteractive',\n",
              "                                                    [key], {});\n",
              "        if (!dataTable) return;\n",
              "\n",
              "        const docLinkHtml = 'Like what you see? Visit the ' +\n",
              "          '<a target=\"_blank\" href=https://colab.research.google.com/notebooks/data_table.ipynb>data table notebook</a>'\n",
              "          + ' to learn more about interactive tables.';\n",
              "        element.innerHTML = '';\n",
              "        dataTable['output_type'] = 'display_data';\n",
              "        await google.colab.output.renderOutput(dataTable, element);\n",
              "        const docLink = document.createElement('div');\n",
              "        docLink.innerHTML = docLinkHtml;\n",
              "        element.appendChild(docLink);\n",
              "      }\n",
              "    </script>\n",
              "  </div>\n",
              "\n",
              "\n",
              "<div id=\"df-c1b26741-bbf3-474d-85cb-749307527753\">\n",
              "  <button class=\"colab-df-quickchart\" onclick=\"quickchart('df-c1b26741-bbf3-474d-85cb-749307527753')\"\n",
              "            title=\"Suggest charts.\"\n",
              "            style=\"display:none;\">\n",
              "\n",
              "<svg xmlns=\"http://www.w3.org/2000/svg\" height=\"24px\"viewBox=\"0 0 24 24\"\n",
              "     width=\"24px\">\n",
              "    <g>\n",
              "        <path d=\"M19 3H5c-1.1 0-2 .9-2 2v14c0 1.1.9 2 2 2h14c1.1 0 2-.9 2-2V5c0-1.1-.9-2-2-2zM9 17H7v-7h2v7zm4 0h-2V7h2v10zm4 0h-2v-4h2v4z\"/>\n",
              "    </g>\n",
              "</svg>\n",
              "  </button>\n",
              "\n",
              "<style>\n",
              "  .colab-df-quickchart {\n",
              "    background-color: #E8F0FE;\n",
              "    border: none;\n",
              "    border-radius: 50%;\n",
              "    cursor: pointer;\n",
              "    display: none;\n",
              "    fill: #1967D2;\n",
              "    height: 32px;\n",
              "    padding: 0 0 0 0;\n",
              "    width: 32px;\n",
              "  }\n",
              "\n",
              "  .colab-df-quickchart:hover {\n",
              "    background-color: #E2EBFA;\n",
              "    box-shadow: 0px 1px 2px rgba(60, 64, 67, 0.3), 0px 1px 3px 1px rgba(60, 64, 67, 0.15);\n",
              "    fill: #174EA6;\n",
              "  }\n",
              "\n",
              "  [theme=dark] .colab-df-quickchart {\n",
              "    background-color: #3B4455;\n",
              "    fill: #D2E3FC;\n",
              "  }\n",
              "\n",
              "  [theme=dark] .colab-df-quickchart:hover {\n",
              "    background-color: #434B5C;\n",
              "    box-shadow: 0px 1px 3px 1px rgba(0, 0, 0, 0.15);\n",
              "    filter: drop-shadow(0px 1px 2px rgba(0, 0, 0, 0.3));\n",
              "    fill: #FFFFFF;\n",
              "  }\n",
              "</style>\n",
              "\n",
              "  <script>\n",
              "    async function quickchart(key) {\n",
              "      const charts = await google.colab.kernel.invokeFunction(\n",
              "          'suggestCharts', [key], {});\n",
              "    }\n",
              "    (() => {\n",
              "      let quickchartButtonEl =\n",
              "        document.querySelector('#df-c1b26741-bbf3-474d-85cb-749307527753 button');\n",
              "      quickchartButtonEl.style.display =\n",
              "        google.colab.kernel.accessAllowed ? 'block' : 'none';\n",
              "    })();\n",
              "  </script>\n",
              "</div>\n",
              "    </div>\n",
              "  </div>\n"
            ]
          },
          "metadata": {},
          "execution_count": 65
        }
      ],
      "source": [
        "VARS = ['sales']\n",
        "\n",
        "tmp = df[VARS].shift(freq='1W')\n",
        "\n",
        "tmp.columns = [v + \"_lag_1\" for v in VARS]\n",
        "df = df.merge(tmp, how='left', left_index=True, right_index=True)\n",
        "\n",
        "tmp = df[VARS].shift(freq='4W')\n",
        "\n",
        "tmp.columns = [v + \"_lag_4\" for v in VARS]\n",
        "df = df.merge(tmp, how='left', left_index=True, right_index=True)\n",
        "\n",
        "cyclical = CyclicalFeatures(\n",
        "        variables=[\"month\", \"wom\"],  # The features we want to transform.\n",
        "        drop_original=False,  # Whether to drop the original features.\n",
        "    )\n",
        "\n",
        "df = cyclical.fit_transform(df)\n",
        "\n",
        "alpha = 0.2\n",
        "smoothed_data = df['sales'].ewm(alpha=alpha).mean()\n",
        "df['smoothed_sales'] = smoothed_data\n",
        "\n",
        "window_size = 3\n",
        "rolling_mean = df['sales'].rolling(window=window_size).mean()\n",
        "df['rolling_mean'] = rolling_mean\n",
        "\n",
        "df.dropna(inplace=True)\n",
        "\n",
        "# Plot the original data, the smoothed data, and the rolling mean\n",
        "# df[['sales']].plot(figsize=(10, 6))\n",
        "# df[['sales', \"sales_lag_1\", \"sales_lag_4\", 'smoothed_sales', 'rolling_mean']].plot(figsize=(10, 6))\n",
        "\n",
        "# # Add labels and a legend\n",
        "# plt.title('Different Perspectives of Sales')\n",
        "# plt.xlabel('Date')\n",
        "# plt.ylabel('Value')\n",
        "# # plt.legend([\"Sales\"])\n",
        "# plt.legend([\"Sales\", \"sales_lag_1\", \"sales_lag_4\", \"Smoothed Sales\", \"Rolling Mea\"])\n",
        "\n",
        "# plt.show()\n",
        "\n",
        "# Create a subplot with shared x-axes\n",
        "fig = sp.make_subplots(rows=1, cols=1, shared_xaxes=True)\n",
        "\n",
        "# Add traces for each column you want to plot\n",
        "fig.add_trace(go.Scatter(x=df.index, y=df['sales'], mode='lines', name='Sales'))\n",
        "fig.add_trace(go.Scatter(x=df.index, y=df['sales_lag_1'], mode='lines', name='Sales Lag 1'))\n",
        "fig.add_trace(go.Scatter(x=df.index, y=df['sales_lag_4'], mode='lines', name='Sales Lag 4'))\n",
        "fig.add_trace(go.Scatter(x=df.index, y=df['smoothed_sales'], mode='lines', name='Smoothed Sales'))\n",
        "fig.add_trace(go.Scatter(x=df.index, y=df['rolling_mean'], mode='lines', name='Rolling Mean'))\n",
        "\n",
        "# Update layout\n",
        "fig.update_layout(\n",
        "    title='Different Perspectives of Sales',\n",
        "    xaxis_title='Date',\n",
        "    yaxis_title='Value',\n",
        "    showlegend=True,\n",
        ")\n",
        "\n",
        "# Show the plot\n",
        "fig.show()\n",
        "\n",
        "print(f\"NaN values: {df.isna().sum()}\")\n",
        "\n",
        "columns = [c for c in df.columns if c != 'sales']\n",
        "col_order = columns + ['sales']\n",
        "\n",
        "df = df[col_order]\n",
        "df.head()"
      ]
    },
    {
      "cell_type": "markdown",
      "id": "8f22840e",
      "metadata": {
        "id": "8f22840e"
      },
      "source": [
        "## Predictive Power Score\n",
        "Let's see if we can assess the predicitve power of our data features.\n",
        "\n",
        "[About ppscore](https://github.com/8080labs/ppscore)"
      ]
    },
    {
      "cell_type": "code",
      "execution_count": 71,
      "id": "5cc8da1c",
      "metadata": {
        "colab": {
          "base_uri": "https://localhost:8080/",
          "height": 570
        },
        "id": "5cc8da1c",
        "outputId": "251921cd-601f-4b50-8b5c-f7554ee5c33d"
      },
      "outputs": [
        {
          "output_type": "execute_result",
          "data": {
            "text/plain": [
              "<Axes: xlabel='x', ylabel='y'>"
            ]
          },
          "metadata": {},
          "execution_count": 71
        },
        {
          "output_type": "display_data",
          "data": {
            "text/plain": [
              "<Figure size 640x480 with 2 Axes>"
            ],
            "image/png": "[encoded data removed]"
          },
          "metadata": {}
        }
      ],
      "source": [
        "matrix_df = pps.matrix(df)[['x', 'y', 'ppscore']].pivot(columns='x', index='y', values='ppscore')\n",
        "sns.heatmap(matrix_df, vmin=0, vmax=1, cmap=\"Blues\", linewidths=0.5, annot=True)"
      ]
    },
    {
      "cell_type": "markdown",
      "id": "20ae8079",
      "metadata": {
        "id": "20ae8079"
      },
      "source": [
        "## Split data\n",
        "\n",
        "Separate the data into training and testing sets, leaving the data after the last week of September to evaluate the forecasts, that is, in the testing set."
      ]
    },
    {
      "cell_type": "code",
      "execution_count": 27,
      "id": "ef9cc064",
      "metadata": {
        "colab": {
          "base_uri": "https://localhost:8080/"
        },
        "id": "ef9cc064",
        "outputId": "62ed364b-978b-4890-98c8-e1700405de74"
      },
      "outputs": [
        {
          "output_type": "stream",
          "name": "stdout",
          "text": [
            "(82, 10) (20, 10) (82,) (20,)\n",
            "            month  wom  sales_lag_1  sales_lag_4  month_sin  month_cos  \\\n",
            "week                                                                     \n",
            "2010-01-03      1    1    22007.770    213000.35        0.5   0.866025   \n",
            "2010-01-10      1    2        0.000    195810.04        0.5   0.866025   \n",
            "2010-01-17      1    3   112318.850    182396.74        0.5   0.866025   \n",
            "2010-01-24      1    4   111460.470     22007.77        0.5   0.866025   \n",
            "2010-01-31      1    5    82065.331         0.00        0.5   0.866025   \n",
            "\n",
            "                 wom_sin   wom_cos  smoothed_sales   rolling_mean  \n",
            "week                                                               \n",
            "2010-01-03  9.510565e-01  0.309017    95740.068253   68134.836667  \n",
            "2010-01-10  5.877853e-01 -0.809017   100233.839869   44775.540000  \n",
            "2010-01-17 -5.877853e-01 -0.809017   103075.000456   74593.106667  \n",
            "2010-01-24 -9.510565e-01  0.309017    98025.981799  101948.217000  \n",
            "2010-01-31 -2.449294e-16  1.000000   100974.669850  101438.797333  \n"
          ]
        }
      ],
      "source": [
        "split_date = '2011-07-24'\n",
        "\n",
        "X_train = df[df.index <= split_date]\n",
        "X_test = df[df.index > split_date]\n",
        "\n",
        "y_train = X_train['sales'].copy()\n",
        "y_test = X_test['sales'].copy()\n",
        "\n",
        "X_train = X_train.drop(['sales'], axis=1)\n",
        "X_test = X_test.drop(['sales'], axis=1)\n",
        "\n",
        "print(X_train.shape, X_test.shape, y_train.shape, y_test.shape)\n",
        "print(X_train.head())\n"
      ]
    },
    {
      "cell_type": "markdown",
      "id": "820803d5",
      "metadata": {
        "id": "820803d5"
      },
      "source": [
        "## Naive forecast\n",
        "\n",
        "Predict sales in the next week (t) as the value of sales in the previous week (t-1)."
      ]
    },
    {
      "cell_type": "code",
      "execution_count": 28,
      "id": "f71d2b6f",
      "metadata": {
        "colab": {
          "base_uri": "https://localhost:8080/"
        },
        "id": "f71d2b6f",
        "outputId": "8b9fceb6-7159-4445-aa63-8a7ca3159c95"
      },
      "outputs": [
        {
          "output_type": "stream",
          "name": "stdout",
          "text": [
            "Naive model rmse:  46757.84146986234\n",
            "Naive model rmse:  54278.345685340195\n"
          ]
        }
      ],
      "source": [
        "print(\"Naive model rmse: \", mean_squared_error(\n",
        "    y_train, X_train['sales_lag_1'], squared=False))\n",
        "\n",
        "print(\"Naive model rmse: \", mean_squared_error(\n",
        "    y_test, X_test['sales_lag_1'], squared=False))"
      ]
    },
    {
      "cell_type": "code",
      "execution_count": 29,
      "id": "acfee446",
      "metadata": {
        "colab": {
          "base_uri": "https://localhost:8080/"
        },
        "id": "acfee446",
        "outputId": "edc34e4a-bfb2-4c22-e7b7-30b9944b8426"
      },
      "outputs": [
        {
          "output_type": "stream",
          "name": "stdout",
          "text": [
            "Naive model rmse:  41237.36423691937\n",
            "Naive model rmse:  45393.213336503366\n"
          ]
        }
      ],
      "source": [
        "print(\"Naive model rmse: \", mean_squared_error(\n",
        "    y_train, X_train['smoothed_sales'], squared=False))\n",
        "\n",
        "print(\"Naive model rmse: \", mean_squared_error(\n",
        "    y_test, X_test['smoothed_sales'], squared=False))"
      ]
    },
    {
      "cell_type": "markdown",
      "id": "4058260e",
      "metadata": {
        "id": "4058260e"
      },
      "source": [
        "## Machine Learning"
      ]
    },
    {
      "cell_type": "markdown",
      "id": "8874a912",
      "metadata": {
        "id": "8874a912"
      },
      "source": [
        "### Lasso"
      ]
    },
    {
      "cell_type": "code",
      "execution_count": 30,
      "id": "4957673a",
      "metadata": {
        "colab": {
          "base_uri": "https://localhost:8080/"
        },
        "id": "4957673a",
        "outputId": "a1df0bb6-3b5e-451e-f1b4-afd0f06ffd3b"
      },
      "outputs": [
        {
          "output_type": "stream",
          "name": "stdout",
          "text": [
            "Lasso train rmse:  31543.829306909203\n",
            "Lasso test rmse:  30744.461333458028\n"
          ]
        }
      ],
      "source": [
        "linear_model = Lasso()\n",
        "linear_model.fit(X_train, y_train)\n",
        "\n",
        "print(\"Lasso train rmse: \",\n",
        "    mean_squared_error(y_train, linear_model.predict(X_train), squared=False))\n",
        "\n",
        "print(\"Lasso test rmse: \",\n",
        "    mean_squared_error(y_test, linear_model.predict(X_test), squared=False))"
      ]
    },
    {
      "cell_type": "markdown",
      "id": "911e7b20",
      "metadata": {
        "id": "911e7b20"
      },
      "source": [
        "### LinearRegression"
      ]
    },
    {
      "cell_type": "code",
      "execution_count": 31,
      "id": "1c0e3c3f",
      "metadata": {
        "colab": {
          "base_uri": "https://localhost:8080/"
        },
        "id": "1c0e3c3f",
        "outputId": "9eec3bf8-a6ed-4af1-af2d-5cf89c7148a4"
      },
      "outputs": [
        {
          "output_type": "stream",
          "name": "stdout",
          "text": [
            "Linear Regression train rmse:  31543.82855553211\n",
            "Linear Regression test rmse:  30747.531489270023\n"
          ]
        }
      ],
      "source": [
        "lr_model = LinearRegression()\n",
        "lr_model.fit(X_train, y_train)\n",
        "\n",
        "print(\"Linear Regression train rmse: \",\n",
        "    mean_squared_error(y_train, lr_model.predict(X_train), squared=False))\n",
        "print(\"Linear Regression test rmse: \",\n",
        "    mean_squared_error(y_test, lr_model.predict(X_test), squared=False))"
      ]
    },
    {
      "cell_type": "markdown",
      "id": "470e747b",
      "metadata": {
        "id": "470e747b"
      },
      "source": [
        "### XGBoostRessor"
      ]
    },
    {
      "cell_type": "code",
      "execution_count": 32,
      "id": "cef144dd",
      "metadata": {
        "colab": {
          "base_uri": "https://localhost:8080/"
        },
        "id": "cef144dd",
        "outputId": "fb7adb28-d76c-4212-eaea-8c9ff16eb005"
      },
      "outputs": [
        {
          "output_type": "stream",
          "name": "stdout",
          "text": [
            "XGBoost train rmse:  1226.9424749210334\n",
            "XGBoost test rmse:  28853.74679267971\n"
          ]
        }
      ],
      "source": [
        "xgb_model = xgb.XGBRegressor(\n",
        "    objective=\"reg:squarederror\",\n",
        "    n_estimators=20000,\n",
        "    learning_rate=0.0005,\n",
        "    eval_metric=\"rmse\",\n",
        "    early_stopping_rounds=10,\n",
        ")\n",
        "\n",
        "xgb_model.fit(\n",
        "    X_train,\n",
        "    y_train,\n",
        "    eval_set=[(X_train, y_train), (X_test, y_test)],\n",
        "    verbose=False\n",
        ")\n",
        "\n",
        "print(\"XGBoost train rmse: \",\n",
        "    mean_squared_error(y_train, xgb_model.predict(X_train), squared=False))\n",
        "print(\"XGBoost test rmse: \",\n",
        "    mean_squared_error(y_test, xgb_model.predict(X_test), squared=False))\n",
        ""
      ]
    },
    {
      "cell_type": "code",
      "source": [],
      "metadata": {
        "id": "CmDCf9qo8_pv"
      },
      "id": "CmDCf9qo8_pv",
      "execution_count": null,
      "outputs": []
    }
  ],
  "metadata": {
    "kernelspec": {
      "display_name": "base",
      "language": "python",
      "name": "python3"
    },
    "language_info": {
      "codemirror_mode": {
        "name": "ipython",
        "version": 3
      },
      "file_extension": ".py",
      "mimetype": "text/x-python",
      "name": "python",
      "nbconvert_exporter": "python",
      "pygments_lexer": "ipython3",
      "version": "3.9.16"
    },
    "toc": {
      "base_numbering": 1,
      "nav_menu": {},
      "number_sections": true,
      "sideBar": true,
      "skip_h1_title": false,
      "title_cell": "Table of Contents",
      "title_sidebar": "Contents",
      "toc_cell": false,
      "toc_position": {},
      "toc_section_display": true,
      "toc_window_display": true
    },
    "colab": {
      "provenance": [],
      "include_colab_link": true
    }
  },
  "nbformat": 4,
  "nbformat_minor": 5
}